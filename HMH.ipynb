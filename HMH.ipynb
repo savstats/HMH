{
 "cells": [
  {
   "cell_type": "markdown",
   "id": "cfb92c09",
   "metadata": {},
   "source": [
    "# Importing Libraries"
   ]
  },
  {
   "cell_type": "code",
   "execution_count": 121,
   "id": "81d10411",
   "metadata": {},
   "outputs": [],
   "source": [
    "import pandas as pd\n",
    "import numpy as np\n",
    "import seaborn as sns\n",
    "import matplotlib.pyplot as plt\n",
    "import plotly.graph_objects as go\n",
    "from scipy.stats.stats import pearsonr\n",
    "import warnings\n",
    "warnings.filterwarnings('ignore')"
   ]
  },
  {
   "cell_type": "markdown",
   "id": "80c50f3b",
   "metadata": {},
   "source": [
    "# Importing Dataset"
   ]
  },
  {
   "cell_type": "code",
   "execution_count": 2,
   "id": "28e0d5a8",
   "metadata": {},
   "outputs": [],
   "source": [
    "assess0 = pd.read_csv(\"F:\\\\HMH\\\\Data\\\\assessments0.csv\", delimiter='|')\n",
    "assess1 = pd.read_csv(\"F:\\\\HMH\\\\Data\\\\assessments1.csv\", delimiter='|')\n",
    "assess2 = pd.read_csv(\"F:\\\\HMH\\\\Data\\\\assessments2.csv\", delimiter='|')\n",
    "assess3 = pd.read_csv(\"F:\\\\HMH\\\\Data\\\\assessments3.csv\", delimiter='|')\n",
    "assess4 = pd.read_csv(\"F:\\\\HMH\\\\Data\\\\assessments4.csv\", delimiter='|')"
   ]
  },
  {
   "cell_type": "markdown",
   "id": "4674333c",
   "metadata": {},
   "source": [
    "# Data Cleaning and Removal"
   ]
  },
  {
   "cell_type": "code",
   "execution_count": 3,
   "id": "3d67992c",
   "metadata": {},
   "outputs": [
    {
     "name": "stdout",
     "output_type": "stream",
     "text": [
      "Data merging done, there are 1193328 records.\n",
      "Duplicates Removed: 129554\n",
      "Negative time records is dropped.\n",
      "Students with score 1 & who has not attempted the questions('False') records is dropped.\n",
      "state_id - 0%\n",
      "district_id - 0%\n",
      "school_id - 0%\n",
      "student_id - 0%\n",
      "session_id - 0%\n",
      "subject - 0%\n",
      "grade - 0%\n",
      "assessment_id - 0%\n",
      "item_id - 0%\n",
      "item_position - 0%\n",
      "attempted - 0%\n",
      "item_score - 0%\n",
      "time_in_seconds - 0%\n",
      "session_completed - 0%\n",
      "District_ID - 0%\n",
      "School_ID - 0%\n",
      "Student_ID - 0%\n",
      "Assess_ID - 0%\n",
      "Item_ID - 0%\n",
      "No missing values in the data.\n",
      "Total records removed after data cleaning: 145780\n",
      "Data is clean, Good to proceed with 1047548 records.\n"
     ]
    }
   ],
   "source": [
    "# Duplication Removal\n",
    "data1 = [assess0, assess1, assess2, assess3, assess4]\n",
    "data = pd.concat(data1).reset_index()\n",
    "print(\"Data merging done, there are \" +str(len(data)) + \" records.\")\n",
    "data = data.drop(['index'],axis=1)\n",
    "Data = data.drop_duplicates()\n",
    "print(\"Duplicates Removed: \" + str(len(data)-len(Data)))\n",
    "\n",
    "# String Replace\n",
    "Data['District_ID'] = Data['district_id'].str.replace(\"district_\",\"\")\n",
    "Data['School_ID'] = Data['school_id'].str.replace(\"school_\",\"\")\n",
    "Data['Student_ID'] = Data['student_id'].str.replace(\"student_\",\"\")\n",
    "Data['Assess_ID'] = Data['assessment_id'].str.replace(\"assessment_\",\"\")\n",
    "Data['Item_ID'] = Data['item_id'].str.replace(\"item_\",\"\")\n",
    "\n",
    "Data['item_score'] = Data['item_score'].fillna(0)\n",
    "Data.loc[(Data['item_score'] < 0), 'item_score'] = 0  # Replacing -1 values with 0 in 'item_score' column\n",
    "Data['item_score'] = Data['item_score'].astype(int)\n",
    "new_assess = Data[Data['attempted'].notna()]\n",
    "\n",
    "negative_time = new_assess[new_assess['time_in_seconds']<0].index\n",
    "new_assess.drop(negative_time , inplace=True)\n",
    "print(\"Negative time records is dropped.\")\n",
    "\n",
    "new_assess['attempted'] = new_assess['attempted'].astype(str)\n",
    "fal_1 = new_assess[(new_assess['attempted']=='False') & (new_assess['item_score']==1)].index\n",
    "new_assess.drop(fal_1,inplace=True)\n",
    "print(\"Students with score 1 & who has not attempted the questions('False') records is dropped.\")\n",
    "\n",
    "# Checking Missing Values\n",
    "for col in new_assess.columns:\n",
    "    pct_missing = np.mean(new_assess[col].isnull())\n",
    "    print('{} - {}%'.format(col, round(pct_missing*100)))\n",
    "print(\"No missing values in the data.\")\n",
    "\n",
    "state_abr = {'CA':'California','IL':'Illinois','KS':'Kansas','ME':'Maine','TX':'Texas'}\n",
    "new_assess[\"States\"] = new_assess.state_id.map(state_abr)\n",
    "new_assess['States'] = new_assess['States'].str.upper()\n",
    "\n",
    "# Converting obj to datetime format\n",
    "new_assess['session_completed'] = pd.to_datetime(new_assess['session_completed']) \n",
    "new_assess['year'] = pd.DatetimeIndex(new_assess['session_completed']).year\n",
    "new_assess['month'] = pd.DatetimeIndex(new_assess['session_completed']).month\n",
    "new_assess['day'] = new_assess['session_completed'].dt.day_name()\n",
    "print(\"Total records removed after data cleaning: \" + str(len(data)-len(new_assess)))\n",
    "print(\"Data is clean, Good to proceed with \" + str(len(new_assess)) + \" records.\")"
   ]
  },
  {
   "cell_type": "code",
   "execution_count": 4,
   "id": "bf5c4762",
   "metadata": {},
   "outputs": [
    {
     "data": {
      "text/html": [
       "<div>\n",
       "<style scoped>\n",
       "    .dataframe tbody tr th:only-of-type {\n",
       "        vertical-align: middle;\n",
       "    }\n",
       "\n",
       "    .dataframe tbody tr th {\n",
       "        vertical-align: top;\n",
       "    }\n",
       "\n",
       "    .dataframe thead th {\n",
       "        text-align: right;\n",
       "    }\n",
       "</style>\n",
       "<table border=\"1\" class=\"dataframe\">\n",
       "  <thead>\n",
       "    <tr style=\"text-align: right;\">\n",
       "      <th></th>\n",
       "      <th>state_id</th>\n",
       "      <th>district_id</th>\n",
       "      <th>school_id</th>\n",
       "      <th>student_id</th>\n",
       "      <th>session_id</th>\n",
       "      <th>subject</th>\n",
       "      <th>grade</th>\n",
       "      <th>assessment_id</th>\n",
       "      <th>item_id</th>\n",
       "      <th>item_position</th>\n",
       "      <th>...</th>\n",
       "      <th>session_completed</th>\n",
       "      <th>District_ID</th>\n",
       "      <th>School_ID</th>\n",
       "      <th>Student_ID</th>\n",
       "      <th>Assess_ID</th>\n",
       "      <th>Item_ID</th>\n",
       "      <th>States</th>\n",
       "      <th>year</th>\n",
       "      <th>month</th>\n",
       "      <th>day</th>\n",
       "    </tr>\n",
       "  </thead>\n",
       "  <tbody>\n",
       "    <tr>\n",
       "      <th>0</th>\n",
       "      <td>TX</td>\n",
       "      <td>district_5</td>\n",
       "      <td>school_173</td>\n",
       "      <td>student_1749</td>\n",
       "      <td>91642</td>\n",
       "      <td>geography</td>\n",
       "      <td>4</td>\n",
       "      <td>assessment_3887</td>\n",
       "      <td>item_1099</td>\n",
       "      <td>8</td>\n",
       "      <td>...</td>\n",
       "      <td>2011-01-07 19:04:00</td>\n",
       "      <td>5</td>\n",
       "      <td>173</td>\n",
       "      <td>1749</td>\n",
       "      <td>3887</td>\n",
       "      <td>1099</td>\n",
       "      <td>TEXAS</td>\n",
       "      <td>2011</td>\n",
       "      <td>1</td>\n",
       "      <td>Friday</td>\n",
       "    </tr>\n",
       "    <tr>\n",
       "      <th>1</th>\n",
       "      <td>CA</td>\n",
       "      <td>district_12</td>\n",
       "      <td>school_97</td>\n",
       "      <td>student_2886</td>\n",
       "      <td>64977</td>\n",
       "      <td>geography</td>\n",
       "      <td>5</td>\n",
       "      <td>assessment_3768</td>\n",
       "      <td>item_18011</td>\n",
       "      <td>7</td>\n",
       "      <td>...</td>\n",
       "      <td>2010-08-09 18:57:00</td>\n",
       "      <td>12</td>\n",
       "      <td>97</td>\n",
       "      <td>2886</td>\n",
       "      <td>3768</td>\n",
       "      <td>18011</td>\n",
       "      <td>CALIFORNIA</td>\n",
       "      <td>2010</td>\n",
       "      <td>8</td>\n",
       "      <td>Monday</td>\n",
       "    </tr>\n",
       "    <tr>\n",
       "      <th>2</th>\n",
       "      <td>CA</td>\n",
       "      <td>district_2</td>\n",
       "      <td>school_279</td>\n",
       "      <td>student_570</td>\n",
       "      <td>102389</td>\n",
       "      <td>history</td>\n",
       "      <td>2</td>\n",
       "      <td>assessment_1776</td>\n",
       "      <td>item_16937</td>\n",
       "      <td>2</td>\n",
       "      <td>...</td>\n",
       "      <td>2011-02-24 18:50:00</td>\n",
       "      <td>2</td>\n",
       "      <td>279</td>\n",
       "      <td>570</td>\n",
       "      <td>1776</td>\n",
       "      <td>16937</td>\n",
       "      <td>CALIFORNIA</td>\n",
       "      <td>2011</td>\n",
       "      <td>2</td>\n",
       "      <td>Thursday</td>\n",
       "    </tr>\n",
       "    <tr>\n",
       "      <th>3</th>\n",
       "      <td>TX</td>\n",
       "      <td>district_4</td>\n",
       "      <td>school_295</td>\n",
       "      <td>student_3275</td>\n",
       "      <td>189539</td>\n",
       "      <td>geography</td>\n",
       "      <td>4</td>\n",
       "      <td>assessment_1939</td>\n",
       "      <td>item_8888</td>\n",
       "      <td>1</td>\n",
       "      <td>...</td>\n",
       "      <td>2010-09-29 20:15:00</td>\n",
       "      <td>4</td>\n",
       "      <td>295</td>\n",
       "      <td>3275</td>\n",
       "      <td>1939</td>\n",
       "      <td>8888</td>\n",
       "      <td>TEXAS</td>\n",
       "      <td>2010</td>\n",
       "      <td>9</td>\n",
       "      <td>Wednesday</td>\n",
       "    </tr>\n",
       "    <tr>\n",
       "      <th>4</th>\n",
       "      <td>ME</td>\n",
       "      <td>district_6</td>\n",
       "      <td>school_25</td>\n",
       "      <td>student_1552</td>\n",
       "      <td>152027</td>\n",
       "      <td>history</td>\n",
       "      <td>3</td>\n",
       "      <td>assessment_1399</td>\n",
       "      <td>item_6460</td>\n",
       "      <td>3</td>\n",
       "      <td>...</td>\n",
       "      <td>2011-01-05 21:59:00</td>\n",
       "      <td>6</td>\n",
       "      <td>25</td>\n",
       "      <td>1552</td>\n",
       "      <td>1399</td>\n",
       "      <td>6460</td>\n",
       "      <td>MAINE</td>\n",
       "      <td>2011</td>\n",
       "      <td>1</td>\n",
       "      <td>Wednesday</td>\n",
       "    </tr>\n",
       "  </tbody>\n",
       "</table>\n",
       "<p>5 rows × 23 columns</p>\n",
       "</div>"
      ],
      "text/plain": [
       "  state_id  district_id   school_id    student_id  session_id    subject  \\\n",
       "0       TX   district_5  school_173  student_1749       91642  geography   \n",
       "1       CA  district_12   school_97  student_2886       64977  geography   \n",
       "2       CA   district_2  school_279   student_570      102389    history   \n",
       "3       TX   district_4  school_295  student_3275      189539  geography   \n",
       "4       ME   district_6   school_25  student_1552      152027    history   \n",
       "\n",
       "   grade    assessment_id     item_id  item_position  ...   session_completed  \\\n",
       "0      4  assessment_3887   item_1099              8  ... 2011-01-07 19:04:00   \n",
       "1      5  assessment_3768  item_18011              7  ... 2010-08-09 18:57:00   \n",
       "2      2  assessment_1776  item_16937              2  ... 2011-02-24 18:50:00   \n",
       "3      4  assessment_1939   item_8888              1  ... 2010-09-29 20:15:00   \n",
       "4      3  assessment_1399   item_6460              3  ... 2011-01-05 21:59:00   \n",
       "\n",
       "   District_ID  School_ID Student_ID Assess_ID Item_ID      States  year  \\\n",
       "0            5        173       1749      3887    1099       TEXAS  2011   \n",
       "1           12         97       2886      3768   18011  CALIFORNIA  2010   \n",
       "2            2        279        570      1776   16937  CALIFORNIA  2011   \n",
       "3            4        295       3275      1939    8888       TEXAS  2010   \n",
       "4            6         25       1552      1399    6460       MAINE  2011   \n",
       "\n",
       "  month        day  \n",
       "0     1     Friday  \n",
       "1     8     Monday  \n",
       "2     2   Thursday  \n",
       "3     9  Wednesday  \n",
       "4     1  Wednesday  \n",
       "\n",
       "[5 rows x 23 columns]"
      ]
     },
     "execution_count": 4,
     "metadata": {},
     "output_type": "execute_result"
    }
   ],
   "source": [
    "new_assess.head(5)"
   ]
  },
  {
   "cell_type": "markdown",
   "id": "7ee6f6df",
   "metadata": {},
   "source": [
    "# Data Anaysis"
   ]
  },
  {
   "cell_type": "code",
   "execution_count": 5,
   "id": "c26fcc78",
   "metadata": {},
   "outputs": [],
   "source": [
    "# Assessment Score of Students\n",
    "stu_unq = new_assess['student_id'].unique()\n",
    "Students_Per = []\n",
    "for i in range(0,len(stu_unq)):\n",
    "    stu_unq1 = stu_unq[i]\n",
    "    stu = new_assess[new_assess['student_id']==stu_unq1].reset_index()\n",
    "    stu_sta = stu['States'][0]\n",
    "    stu_dis = stu['district_id'][0]\n",
    "    stu_sch = stu['school_id'][0]\n",
    "    stu_sub = stu['subject'][0]\n",
    "    stu_grd = stu['grade'][0]\n",
    "    time = round(stu['time_in_seconds'].mean(),2)\n",
    "    total_item = len(stu['item_id'])               #Number of items\n",
    "    correct_item = len(stu[stu['item_score']==1])  #Sum of correct items\n",
    "    Student_score = round(((correct_item/total_item)*100),2)#.astype(int)\n",
    "    df = [stu_sta,stu_dis,stu_unq1,stu_sch,stu_grd,stu_sub,Student_score,time]\n",
    "    Students_Per.append(df)\n",
    "    #print(i)\n",
    "\n",
    "Students_Performance = pd.DataFrame(Students_Per,columns=['State','District','Student','School','Grade','Subject','Student Score','Assess_Time'])\n",
    "bins = [0,30,60,90,100]      # Grading bucket\n",
    "labels = ['C', 'B', 'A','A+']\n",
    "Students_Performance['grade'] = pd.cut(x = Students_Performance['Student Score'], bins = bins, labels = labels, include_lowest = True)"
   ]
  },
  {
   "cell_type": "code",
   "execution_count": 126,
   "id": "1d3b11d2",
   "metadata": {},
   "outputs": [
    {
     "data": {
      "text/html": [
       "<div>\n",
       "<style scoped>\n",
       "    .dataframe tbody tr th:only-of-type {\n",
       "        vertical-align: middle;\n",
       "    }\n",
       "\n",
       "    .dataframe tbody tr th {\n",
       "        vertical-align: top;\n",
       "    }\n",
       "\n",
       "    .dataframe thead th {\n",
       "        text-align: right;\n",
       "    }\n",
       "</style>\n",
       "<table border=\"1\" class=\"dataframe\">\n",
       "  <thead>\n",
       "    <tr style=\"text-align: right;\">\n",
       "      <th></th>\n",
       "      <th>State</th>\n",
       "      <th>District</th>\n",
       "      <th>Student</th>\n",
       "      <th>School</th>\n",
       "      <th>Grade</th>\n",
       "      <th>Subject</th>\n",
       "      <th>Student Score</th>\n",
       "      <th>Assess_Time</th>\n",
       "      <th>grade</th>\n",
       "    </tr>\n",
       "  </thead>\n",
       "  <tbody>\n",
       "    <tr>\n",
       "      <th>0</th>\n",
       "      <td>TEXAS</td>\n",
       "      <td>district_5</td>\n",
       "      <td>student_1749</td>\n",
       "      <td>school_173</td>\n",
       "      <td>4</td>\n",
       "      <td>geography</td>\n",
       "      <td>97.97</td>\n",
       "      <td>76.91</td>\n",
       "      <td>A+</td>\n",
       "    </tr>\n",
       "    <tr>\n",
       "      <th>1</th>\n",
       "      <td>CALIFORNIA</td>\n",
       "      <td>district_12</td>\n",
       "      <td>student_2886</td>\n",
       "      <td>school_97</td>\n",
       "      <td>5</td>\n",
       "      <td>geography</td>\n",
       "      <td>82.70</td>\n",
       "      <td>4714.44</td>\n",
       "      <td>A</td>\n",
       "    </tr>\n",
       "    <tr>\n",
       "      <th>2</th>\n",
       "      <td>CALIFORNIA</td>\n",
       "      <td>district_2</td>\n",
       "      <td>student_570</td>\n",
       "      <td>school_279</td>\n",
       "      <td>2</td>\n",
       "      <td>history</td>\n",
       "      <td>79.84</td>\n",
       "      <td>28.22</td>\n",
       "      <td>A</td>\n",
       "    </tr>\n",
       "    <tr>\n",
       "      <th>3</th>\n",
       "      <td>TEXAS</td>\n",
       "      <td>district_4</td>\n",
       "      <td>student_3275</td>\n",
       "      <td>school_295</td>\n",
       "      <td>4</td>\n",
       "      <td>geography</td>\n",
       "      <td>76.13</td>\n",
       "      <td>112.47</td>\n",
       "      <td>A</td>\n",
       "    </tr>\n",
       "    <tr>\n",
       "      <th>4</th>\n",
       "      <td>MAINE</td>\n",
       "      <td>district_6</td>\n",
       "      <td>student_1552</td>\n",
       "      <td>school_25</td>\n",
       "      <td>3</td>\n",
       "      <td>history</td>\n",
       "      <td>0.00</td>\n",
       "      <td>50.04</td>\n",
       "      <td>C</td>\n",
       "    </tr>\n",
       "  </tbody>\n",
       "</table>\n",
       "</div>"
      ],
      "text/plain": [
       "        State     District       Student      School  Grade    Subject  \\\n",
       "0       TEXAS   district_5  student_1749  school_173      4  geography   \n",
       "1  CALIFORNIA  district_12  student_2886   school_97      5  geography   \n",
       "2  CALIFORNIA   district_2   student_570  school_279      2    history   \n",
       "3       TEXAS   district_4  student_3275  school_295      4  geography   \n",
       "4       MAINE   district_6  student_1552   school_25      3    history   \n",
       "\n",
       "   Student Score  Assess_Time grade  \n",
       "0          97.97        76.91    A+  \n",
       "1          82.70      4714.44     A  \n",
       "2          79.84        28.22     A  \n",
       "3          76.13       112.47     A  \n",
       "4           0.00        50.04     C  "
      ]
     },
     "execution_count": 126,
     "metadata": {},
     "output_type": "execute_result"
    }
   ],
   "source": [
    "Students_Performance.head()"
   ]
  },
  {
   "cell_type": "code",
   "execution_count": 8,
   "id": "094e20d5",
   "metadata": {},
   "outputs": [],
   "source": [
    "# Student performance in the year 2010\n",
    "stu_unq = new_assess['student_id'].unique()\n",
    "new_assess10 = new_assess[new_assess['year']==2010]#.drop(['index'],axis=1)\n",
    "Students_Per = []\n",
    "for i in range(0,len(stu_unq)):\n",
    "    stu_unq1 = stu_unq[i]\n",
    "    stu = new_assess10[new_assess10['student_id']==stu_unq1].reset_index()\n",
    "    if len(stu) > 0:\n",
    "        stu_sta = stu['States'][0]\n",
    "        stu_dis = stu['district_id'][0]\n",
    "        stu_sch = stu['school_id'][0]\n",
    "        stu_sub = stu['subject'][0]\n",
    "        total_item = len(stu['item_id'])\n",
    "        correct_item = len(stu[stu['item_score']==1])\n",
    "        Student_score = round(((correct_item/total_item)*100),2)#.astype(int)\n",
    "        df = [stu_sta,stu_dis,stu_unq1,stu_sch,stu_sub,Student_score]\n",
    "        Students_Per.append(df)\n",
    "        #print(i)\n",
    "\n",
    "Students_Performance10 = pd.DataFrame(Students_Per,columns=['State','District','Student','School','Subject','Student Score 2010'])\n",
    "\n",
    "# Student performance in the year 2011\n",
    "stu_unq = new_assess['student_id'].unique()\n",
    "new_assess11 = new_assess[new_assess['year']==2011]#.drop(['index'],axis=1)\n",
    "Students_Per = []\n",
    "for i in range(0,len(stu_unq)):\n",
    "    stu_unq1 = stu_unq[i]\n",
    "    stu = new_assess11[new_assess11['student_id']==stu_unq1].reset_index()\n",
    "    if len(stu) > 0:\n",
    "        stu_sta = stu['States'][0]\n",
    "        stu_dis = stu['district_id'][0]\n",
    "        stu_sch = stu['school_id'][0]\n",
    "        stu_sub = stu['subject'][0]\n",
    "        total_item = len(stu['item_id'])\n",
    "        correct_item = len(stu[stu['item_score']==1])\n",
    "        Student_score = round(((correct_item/total_item)*100),2)#.astype(int)\n",
    "        df = [stu_sta,stu_dis,stu_unq1,stu_sch,stu_sub,Student_score]\n",
    "        Students_Per.append(df)\n",
    "        #print(i)\n",
    "\n",
    "Students_Performance11 = pd.DataFrame(Students_Per,columns=['State','District','Student','School','Subject','Student Score 2011'])\n"
   ]
  },
  {
   "cell_type": "code",
   "execution_count": 14,
   "id": "1e5b306d",
   "metadata": {},
   "outputs": [],
   "source": [
    "# Student performance on each assessments\n",
    "Assess_Score = []\n",
    "unq_stu = new_assess['student_id'].unique()\n",
    "for i in range(0,len(unq_stu)):\n",
    "    stu_data = new_assess[new_assess['student_id']==unq_stu[i]].reset_index().drop(['index'],axis=1)\n",
    "    if len(stu_data)>0:\n",
    "        unq_assess = stu_data['assessment_id'].unique()\n",
    "        #print(i)\n",
    "        for j in range(0,len(unq_assess)):\n",
    "            assess_data = stu_data[stu_data['assessment_id']==unq_assess[j]].reset_index().drop(['index'],axis=1)\n",
    "            if len(assess_data)>0:\n",
    "                time_taken = sum(assess_data['time_in_seconds'])\n",
    "                total_item = len(assess_data['item_id'])\n",
    "                correct_item = len(assess_data[assess_data['item_score']==1])\n",
    "                Student_score = round(((correct_item/total_item)*100),2)#.astype(int)\n",
    "                day = assess_data['day'][0]\n",
    "                assignment = unq_assess[j]\n",
    "                student = unq_stu[i]\n",
    "                df = [student,assignment,day,time_taken,Student_score]\n",
    "                Assess_Score.append(df)\n",
    "                \n",
    "Assessment_Score = pd.DataFrame(Assess_Score,columns=['Student','Assignment','Day','Assess_Time','Student Score'])\n",
    "Assessment_Score['Time_Min'] = round(Assessment_Score['Assess_Time']/60,2)"
   ]
  },
  {
   "cell_type": "code",
   "execution_count": 127,
   "id": "88ca0521",
   "metadata": {},
   "outputs": [
    {
     "data": {
      "text/html": [
       "<div>\n",
       "<style scoped>\n",
       "    .dataframe tbody tr th:only-of-type {\n",
       "        vertical-align: middle;\n",
       "    }\n",
       "\n",
       "    .dataframe tbody tr th {\n",
       "        vertical-align: top;\n",
       "    }\n",
       "\n",
       "    .dataframe thead th {\n",
       "        text-align: right;\n",
       "    }\n",
       "</style>\n",
       "<table border=\"1\" class=\"dataframe\">\n",
       "  <thead>\n",
       "    <tr style=\"text-align: right;\">\n",
       "      <th></th>\n",
       "      <th>Student</th>\n",
       "      <th>Assignment</th>\n",
       "      <th>Day</th>\n",
       "      <th>Assess_Time</th>\n",
       "      <th>Student Score</th>\n",
       "      <th>Time_Min</th>\n",
       "    </tr>\n",
       "  </thead>\n",
       "  <tbody>\n",
       "    <tr>\n",
       "      <th>0</th>\n",
       "      <td>student_1749</td>\n",
       "      <td>assessment_3887</td>\n",
       "      <td>Friday</td>\n",
       "      <td>91</td>\n",
       "      <td>100.0</td>\n",
       "      <td>1.52</td>\n",
       "    </tr>\n",
       "    <tr>\n",
       "      <th>1</th>\n",
       "      <td>student_1749</td>\n",
       "      <td>assessment_2690</td>\n",
       "      <td>Thursday</td>\n",
       "      <td>624</td>\n",
       "      <td>100.0</td>\n",
       "      <td>10.40</td>\n",
       "    </tr>\n",
       "    <tr>\n",
       "      <th>2</th>\n",
       "      <td>student_1749</td>\n",
       "      <td>assessment_1008</td>\n",
       "      <td>Tuesday</td>\n",
       "      <td>700</td>\n",
       "      <td>100.0</td>\n",
       "      <td>11.67</td>\n",
       "    </tr>\n",
       "    <tr>\n",
       "      <th>3</th>\n",
       "      <td>student_1749</td>\n",
       "      <td>assessment_3416</td>\n",
       "      <td>Tuesday</td>\n",
       "      <td>338</td>\n",
       "      <td>100.0</td>\n",
       "      <td>5.63</td>\n",
       "    </tr>\n",
       "    <tr>\n",
       "      <th>4</th>\n",
       "      <td>student_1749</td>\n",
       "      <td>assessment_4404</td>\n",
       "      <td>Friday</td>\n",
       "      <td>227</td>\n",
       "      <td>100.0</td>\n",
       "      <td>3.78</td>\n",
       "    </tr>\n",
       "  </tbody>\n",
       "</table>\n",
       "</div>"
      ],
      "text/plain": [
       "        Student       Assignment       Day  Assess_Time  Student Score  \\\n",
       "0  student_1749  assessment_3887    Friday           91          100.0   \n",
       "1  student_1749  assessment_2690  Thursday          624          100.0   \n",
       "2  student_1749  assessment_1008   Tuesday          700          100.0   \n",
       "3  student_1749  assessment_3416   Tuesday          338          100.0   \n",
       "4  student_1749  assessment_4404    Friday          227          100.0   \n",
       "\n",
       "   Time_Min  \n",
       "0      1.52  \n",
       "1     10.40  \n",
       "2     11.67  \n",
       "3      5.63  \n",
       "4      3.78  "
      ]
     },
     "execution_count": 127,
     "metadata": {},
     "output_type": "execute_result"
    }
   ],
   "source": [
    "Assessment_Score.head()"
   ]
  },
  {
   "cell_type": "markdown",
   "id": "f44f2df5",
   "metadata": {},
   "source": [
    "# Part - 1\n",
    "# Insight for CEO"
   ]
  },
  {
   "cell_type": "markdown",
   "id": "ca89becc",
   "metadata": {},
   "source": [
    "## Student performance"
   ]
  },
  {
   "cell_type": "code",
   "execution_count": 42,
   "id": "eb53fe7c",
   "metadata": {},
   "outputs": [
    {
     "data": {
      "image/png": "[encoded data removed]",
      "text/plain": [
       "<Figure size 720x720 with 1 Axes>"
      ]
     },
     "metadata": {
      "needs_background": "light"
     },
     "output_type": "display_data"
    }
   ],
   "source": [
    "fig, ax = plt.subplots(figsize=(10, 10))\n",
    "sns.boxplot(Students_Performance['Subject'],Students_Performance['Student Score'])\n",
    "plt.show()"
   ]
  },
  {
   "cell_type": "markdown",
   "id": "f51638aa",
   "metadata": {},
   "source": [
    "### Comparing students's grade with student performance"
   ]
  },
  {
   "cell_type": "code",
   "execution_count": 43,
   "id": "0e41e764",
   "metadata": {},
   "outputs": [
    {
     "data": {
      "image/png": "[encoded data removed]",
      "text/plain": [
       "<Figure size 1440x720 with 1 Axes>"
      ]
     },
     "metadata": {
      "needs_background": "light"
     },
     "output_type": "display_data"
    }
   ],
   "source": [
    "fig, ax = plt.subplots(figsize=(20, 10))\n",
    "sns.boxplot(Students_Performance['Grade'],Students_Performance['Student Score'],hue=Students_Performance['Subject'])\n",
    "plt.show()"
   ]
  },
  {
   "cell_type": "code",
   "execution_count": 44,
   "id": "ded89497",
   "metadata": {},
   "outputs": [
    {
     "data": {
      "text/html": [
       "<div>\n",
       "<style scoped>\n",
       "    .dataframe tbody tr th:only-of-type {\n",
       "        vertical-align: middle;\n",
       "    }\n",
       "\n",
       "    .dataframe tbody tr th {\n",
       "        vertical-align: top;\n",
       "    }\n",
       "\n",
       "    .dataframe thead th {\n",
       "        text-align: right;\n",
       "    }\n",
       "</style>\n",
       "<table border=\"1\" class=\"dataframe\">\n",
       "  <thead>\n",
       "    <tr style=\"text-align: right;\">\n",
       "      <th></th>\n",
       "      <th>subject</th>\n",
       "      <th>grade</th>\n",
       "      <th>assessment_id</th>\n",
       "    </tr>\n",
       "  </thead>\n",
       "  <tbody>\n",
       "    <tr>\n",
       "      <th>0</th>\n",
       "      <td>civics</td>\n",
       "      <td>1</td>\n",
       "      <td>236</td>\n",
       "    </tr>\n",
       "    <tr>\n",
       "      <th>1</th>\n",
       "      <td>civics</td>\n",
       "      <td>2</td>\n",
       "      <td>277</td>\n",
       "    </tr>\n",
       "    <tr>\n",
       "      <th>2</th>\n",
       "      <td>civics</td>\n",
       "      <td>3</td>\n",
       "      <td>252</td>\n",
       "    </tr>\n",
       "    <tr>\n",
       "      <th>3</th>\n",
       "      <td>civics</td>\n",
       "      <td>4</td>\n",
       "      <td>82</td>\n",
       "    </tr>\n",
       "    <tr>\n",
       "      <th>4</th>\n",
       "      <td>civics</td>\n",
       "      <td>5</td>\n",
       "      <td>22</td>\n",
       "    </tr>\n",
       "    <tr>\n",
       "      <th>5</th>\n",
       "      <td>civics</td>\n",
       "      <td>6</td>\n",
       "      <td>9</td>\n",
       "    </tr>\n",
       "    <tr>\n",
       "      <th>6</th>\n",
       "      <td>geography</td>\n",
       "      <td>0</td>\n",
       "      <td>2</td>\n",
       "    </tr>\n",
       "    <tr>\n",
       "      <th>7</th>\n",
       "      <td>geography</td>\n",
       "      <td>1</td>\n",
       "      <td>830</td>\n",
       "    </tr>\n",
       "    <tr>\n",
       "      <th>8</th>\n",
       "      <td>geography</td>\n",
       "      <td>2</td>\n",
       "      <td>608</td>\n",
       "    </tr>\n",
       "    <tr>\n",
       "      <th>9</th>\n",
       "      <td>geography</td>\n",
       "      <td>3</td>\n",
       "      <td>759</td>\n",
       "    </tr>\n",
       "    <tr>\n",
       "      <th>10</th>\n",
       "      <td>geography</td>\n",
       "      <td>4</td>\n",
       "      <td>437</td>\n",
       "    </tr>\n",
       "    <tr>\n",
       "      <th>11</th>\n",
       "      <td>geography</td>\n",
       "      <td>5</td>\n",
       "      <td>383</td>\n",
       "    </tr>\n",
       "    <tr>\n",
       "      <th>12</th>\n",
       "      <td>geography</td>\n",
       "      <td>6</td>\n",
       "      <td>418</td>\n",
       "    </tr>\n",
       "    <tr>\n",
       "      <th>13</th>\n",
       "      <td>geography</td>\n",
       "      <td>7</td>\n",
       "      <td>45</td>\n",
       "    </tr>\n",
       "    <tr>\n",
       "      <th>14</th>\n",
       "      <td>history</td>\n",
       "      <td>1</td>\n",
       "      <td>94</td>\n",
       "    </tr>\n",
       "    <tr>\n",
       "      <th>15</th>\n",
       "      <td>history</td>\n",
       "      <td>2</td>\n",
       "      <td>93</td>\n",
       "    </tr>\n",
       "    <tr>\n",
       "      <th>16</th>\n",
       "      <td>history</td>\n",
       "      <td>3</td>\n",
       "      <td>92</td>\n",
       "    </tr>\n",
       "    <tr>\n",
       "      <th>17</th>\n",
       "      <td>history</td>\n",
       "      <td>4</td>\n",
       "      <td>124</td>\n",
       "    </tr>\n",
       "    <tr>\n",
       "      <th>18</th>\n",
       "      <td>history</td>\n",
       "      <td>5</td>\n",
       "      <td>50</td>\n",
       "    </tr>\n",
       "    <tr>\n",
       "      <th>19</th>\n",
       "      <td>history</td>\n",
       "      <td>6</td>\n",
       "      <td>10</td>\n",
       "    </tr>\n",
       "  </tbody>\n",
       "</table>\n",
       "</div>"
      ],
      "text/plain": [
       "      subject  grade  assessment_id\n",
       "0      civics      1            236\n",
       "1      civics      2            277\n",
       "2      civics      3            252\n",
       "3      civics      4             82\n",
       "4      civics      5             22\n",
       "5      civics      6              9\n",
       "6   geography      0              2\n",
       "7   geography      1            830\n",
       "8   geography      2            608\n",
       "9   geography      3            759\n",
       "10  geography      4            437\n",
       "11  geography      5            383\n",
       "12  geography      6            418\n",
       "13  geography      7             45\n",
       "14    history      1             94\n",
       "15    history      2             93\n",
       "16    history      3             92\n",
       "17    history      4            124\n",
       "18    history      5             50\n",
       "19    history      6             10"
      ]
     },
     "execution_count": 44,
     "metadata": {},
     "output_type": "execute_result"
    }
   ],
   "source": [
    "dim22 = pd.DataFrame(new_assess.groupby(['subject','grade'])['assessment_id'].nunique().round()).reset_index()\n",
    "dim22"
   ]
  },
  {
   "cell_type": "markdown",
   "id": "c981d545",
   "metadata": {},
   "source": [
    "### Comparing students's from different state with student performance"
   ]
  },
  {
   "cell_type": "code",
   "execution_count": 45,
   "id": "a8263a29",
   "metadata": {},
   "outputs": [
    {
     "data": {
      "image/png": "[encoded data removed]",
      "text/plain": [
       "<Figure size 1440x720 with 1 Axes>"
      ]
     },
     "metadata": {
      "needs_background": "light"
     },
     "output_type": "display_data"
    }
   ],
   "source": [
    "fig, ax = plt.subplots(figsize=(20, 10))\n",
    "sns.boxplot(Students_Performance['State'],Students_Performance['Student Score'],hue=Students_Performance['Subject'])\n",
    "plt.show()"
   ]
  },
  {
   "cell_type": "code",
   "execution_count": 46,
   "id": "fb7d0d65",
   "metadata": {},
   "outputs": [
    {
     "data": {
      "text/html": [
       "<div>\n",
       "<style scoped>\n",
       "    .dataframe tbody tr th:only-of-type {\n",
       "        vertical-align: middle;\n",
       "    }\n",
       "\n",
       "    .dataframe tbody tr th {\n",
       "        vertical-align: top;\n",
       "    }\n",
       "\n",
       "    .dataframe thead th {\n",
       "        text-align: right;\n",
       "    }\n",
       "</style>\n",
       "<table border=\"1\" class=\"dataframe\">\n",
       "  <thead>\n",
       "    <tr style=\"text-align: right;\">\n",
       "      <th></th>\n",
       "      <th>subject</th>\n",
       "      <th>States</th>\n",
       "      <th>assessment_id</th>\n",
       "    </tr>\n",
       "  </thead>\n",
       "  <tbody>\n",
       "    <tr>\n",
       "      <th>0</th>\n",
       "      <td>civics</td>\n",
       "      <td>CALIFORNIA</td>\n",
       "      <td>358</td>\n",
       "    </tr>\n",
       "    <tr>\n",
       "      <th>1</th>\n",
       "      <td>civics</td>\n",
       "      <td>ILLINOIS</td>\n",
       "      <td>458</td>\n",
       "    </tr>\n",
       "    <tr>\n",
       "      <th>2</th>\n",
       "      <td>civics</td>\n",
       "      <td>KANSAS</td>\n",
       "      <td>533</td>\n",
       "    </tr>\n",
       "    <tr>\n",
       "      <th>3</th>\n",
       "      <td>civics</td>\n",
       "      <td>MAINE</td>\n",
       "      <td>434</td>\n",
       "    </tr>\n",
       "    <tr>\n",
       "      <th>4</th>\n",
       "      <td>civics</td>\n",
       "      <td>TEXAS</td>\n",
       "      <td>253</td>\n",
       "    </tr>\n",
       "    <tr>\n",
       "      <th>5</th>\n",
       "      <td>geography</td>\n",
       "      <td>CALIFORNIA</td>\n",
       "      <td>2449</td>\n",
       "    </tr>\n",
       "    <tr>\n",
       "      <th>6</th>\n",
       "      <td>geography</td>\n",
       "      <td>ILLINOIS</td>\n",
       "      <td>980</td>\n",
       "    </tr>\n",
       "    <tr>\n",
       "      <th>7</th>\n",
       "      <td>geography</td>\n",
       "      <td>KANSAS</td>\n",
       "      <td>1992</td>\n",
       "    </tr>\n",
       "    <tr>\n",
       "      <th>8</th>\n",
       "      <td>geography</td>\n",
       "      <td>TEXAS</td>\n",
       "      <td>2450</td>\n",
       "    </tr>\n",
       "    <tr>\n",
       "      <th>9</th>\n",
       "      <td>history</td>\n",
       "      <td>CALIFORNIA</td>\n",
       "      <td>166</td>\n",
       "    </tr>\n",
       "    <tr>\n",
       "      <th>10</th>\n",
       "      <td>history</td>\n",
       "      <td>ILLINOIS</td>\n",
       "      <td>379</td>\n",
       "    </tr>\n",
       "    <tr>\n",
       "      <th>11</th>\n",
       "      <td>history</td>\n",
       "      <td>KANSAS</td>\n",
       "      <td>251</td>\n",
       "    </tr>\n",
       "    <tr>\n",
       "      <th>12</th>\n",
       "      <td>history</td>\n",
       "      <td>MAINE</td>\n",
       "      <td>216</td>\n",
       "    </tr>\n",
       "    <tr>\n",
       "      <th>13</th>\n",
       "      <td>history</td>\n",
       "      <td>TEXAS</td>\n",
       "      <td>163</td>\n",
       "    </tr>\n",
       "  </tbody>\n",
       "</table>\n",
       "</div>"
      ],
      "text/plain": [
       "      subject      States  assessment_id\n",
       "0      civics  CALIFORNIA            358\n",
       "1      civics    ILLINOIS            458\n",
       "2      civics      KANSAS            533\n",
       "3      civics       MAINE            434\n",
       "4      civics       TEXAS            253\n",
       "5   geography  CALIFORNIA           2449\n",
       "6   geography    ILLINOIS            980\n",
       "7   geography      KANSAS           1992\n",
       "8   geography       TEXAS           2450\n",
       "9     history  CALIFORNIA            166\n",
       "10    history    ILLINOIS            379\n",
       "11    history      KANSAS            251\n",
       "12    history       MAINE            216\n",
       "13    history       TEXAS            163"
      ]
     },
     "execution_count": 46,
     "metadata": {},
     "output_type": "execute_result"
    }
   ],
   "source": [
    "st_dis = pd.DataFrame(new_assess.groupby(['subject','States'])['assessment_id'].nunique().round()).reset_index()\n",
    "st_dis"
   ]
  },
  {
   "cell_type": "markdown",
   "id": "81eb3073",
   "metadata": {},
   "source": [
    "### Insight:\n",
    "- Higher the assessments provided to the students, better their performance.\n",
    "    "
   ]
  },
  {
   "cell_type": "markdown",
   "id": "79bbe4c3",
   "metadata": {},
   "source": [
    "# Insight for Product Owner"
   ]
  },
  {
   "cell_type": "markdown",
   "id": "45f7a4a4",
   "metadata": {},
   "source": [
    "## Student performance on assessments"
   ]
  },
  {
   "cell_type": "code",
   "execution_count": 53,
   "id": "22a08ba0",
   "metadata": {},
   "outputs": [
    {
     "data": {
      "text/html": [
       "<div>\n",
       "<style scoped>\n",
       "    .dataframe tbody tr th:only-of-type {\n",
       "        vertical-align: middle;\n",
       "    }\n",
       "\n",
       "    .dataframe tbody tr th {\n",
       "        vertical-align: top;\n",
       "    }\n",
       "\n",
       "    .dataframe thead th {\n",
       "        text-align: right;\n",
       "    }\n",
       "</style>\n",
       "<table border=\"1\" class=\"dataframe\">\n",
       "  <thead>\n",
       "    <tr style=\"text-align: right;\">\n",
       "      <th></th>\n",
       "      <th>States</th>\n",
       "      <th>attempted</th>\n",
       "      <th>Count</th>\n",
       "    </tr>\n",
       "  </thead>\n",
       "  <tbody>\n",
       "    <tr>\n",
       "      <th>0</th>\n",
       "      <td>CALIFORNIA</td>\n",
       "      <td>False</td>\n",
       "      <td>224</td>\n",
       "    </tr>\n",
       "    <tr>\n",
       "      <th>1</th>\n",
       "      <td>CALIFORNIA</td>\n",
       "      <td>True</td>\n",
       "      <td>321332</td>\n",
       "    </tr>\n",
       "    <tr>\n",
       "      <th>2</th>\n",
       "      <td>ILLINOIS</td>\n",
       "      <td>False</td>\n",
       "      <td>137</td>\n",
       "    </tr>\n",
       "    <tr>\n",
       "      <th>3</th>\n",
       "      <td>ILLINOIS</td>\n",
       "      <td>True</td>\n",
       "      <td>92519</td>\n",
       "    </tr>\n",
       "    <tr>\n",
       "      <th>4</th>\n",
       "      <td>KANSAS</td>\n",
       "      <td>False</td>\n",
       "      <td>203</td>\n",
       "    </tr>\n",
       "    <tr>\n",
       "      <th>5</th>\n",
       "      <td>KANSAS</td>\n",
       "      <td>True</td>\n",
       "      <td>356926</td>\n",
       "    </tr>\n",
       "    <tr>\n",
       "      <th>6</th>\n",
       "      <td>MAINE</td>\n",
       "      <td>True</td>\n",
       "      <td>74506</td>\n",
       "    </tr>\n",
       "    <tr>\n",
       "      <th>7</th>\n",
       "      <td>TEXAS</td>\n",
       "      <td>False</td>\n",
       "      <td>462</td>\n",
       "    </tr>\n",
       "    <tr>\n",
       "      <th>8</th>\n",
       "      <td>TEXAS</td>\n",
       "      <td>True</td>\n",
       "      <td>201239</td>\n",
       "    </tr>\n",
       "  </tbody>\n",
       "</table>\n",
       "</div>"
      ],
      "text/plain": [
       "       States attempted   Count\n",
       "0  CALIFORNIA     False     224\n",
       "1  CALIFORNIA      True  321332\n",
       "2    ILLINOIS     False     137\n",
       "3    ILLINOIS      True   92519\n",
       "4      KANSAS     False     203\n",
       "5      KANSAS      True  356926\n",
       "6       MAINE      True   74506\n",
       "7       TEXAS     False     462\n",
       "8       TEXAS      True  201239"
      ]
     },
     "execution_count": 53,
     "metadata": {},
     "output_type": "execute_result"
    }
   ],
   "source": [
    "dim3 = pd.DataFrame(new_assess.groupby(['States','attempted'])['grade'].count()).reset_index()\n",
    "dim3.columns = dim3.columns.str.replace('grade', 'Count')\n",
    "dim3"
   ]
  },
  {
   "cell_type": "code",
   "execution_count": 54,
   "id": "c1df242d",
   "metadata": {},
   "outputs": [
    {
     "data": {
      "text/html": [
       "<div>\n",
       "<style scoped>\n",
       "    .dataframe tbody tr th:only-of-type {\n",
       "        vertical-align: middle;\n",
       "    }\n",
       "\n",
       "    .dataframe tbody tr th {\n",
       "        vertical-align: top;\n",
       "    }\n",
       "\n",
       "    .dataframe thead th {\n",
       "        text-align: right;\n",
       "    }\n",
       "</style>\n",
       "<table border=\"1\" class=\"dataframe\">\n",
       "  <thead>\n",
       "    <tr style=\"text-align: right;\">\n",
       "      <th></th>\n",
       "      <th>subject</th>\n",
       "      <th>attempted</th>\n",
       "      <th>Count</th>\n",
       "    </tr>\n",
       "  </thead>\n",
       "  <tbody>\n",
       "    <tr>\n",
       "      <th>0</th>\n",
       "      <td>civics</td>\n",
       "      <td>True</td>\n",
       "      <td>165069</td>\n",
       "    </tr>\n",
       "    <tr>\n",
       "      <th>1</th>\n",
       "      <td>geography</td>\n",
       "      <td>False</td>\n",
       "      <td>1026</td>\n",
       "    </tr>\n",
       "    <tr>\n",
       "      <th>2</th>\n",
       "      <td>geography</td>\n",
       "      <td>True</td>\n",
       "      <td>819383</td>\n",
       "    </tr>\n",
       "    <tr>\n",
       "      <th>3</th>\n",
       "      <td>history</td>\n",
       "      <td>True</td>\n",
       "      <td>62070</td>\n",
       "    </tr>\n",
       "  </tbody>\n",
       "</table>\n",
       "</div>"
      ],
      "text/plain": [
       "     subject attempted   Count\n",
       "0     civics      True  165069\n",
       "1  geography     False    1026\n",
       "2  geography      True  819383\n",
       "3    history      True   62070"
      ]
     },
     "execution_count": 54,
     "metadata": {},
     "output_type": "execute_result"
    }
   ],
   "source": [
    "dim4 = pd.DataFrame(new_assess.groupby(['subject','attempted'])['grade'].count()).reset_index()\n",
    "dim4.columns = dim4.columns.str.replace('grade', 'Count')\n",
    "dim4"
   ]
  },
  {
   "cell_type": "code",
   "execution_count": 55,
   "id": "1145f9e3",
   "metadata": {},
   "outputs": [
    {
     "data": {
      "text/html": [
       "<div>\n",
       "<style scoped>\n",
       "    .dataframe tbody tr th:only-of-type {\n",
       "        vertical-align: middle;\n",
       "    }\n",
       "\n",
       "    .dataframe tbody tr th {\n",
       "        vertical-align: top;\n",
       "    }\n",
       "\n",
       "    .dataframe thead th {\n",
       "        text-align: right;\n",
       "    }\n",
       "</style>\n",
       "<table border=\"1\" class=\"dataframe\">\n",
       "  <thead>\n",
       "    <tr style=\"text-align: right;\">\n",
       "      <th></th>\n",
       "      <th>Item_Position</th>\n",
       "      <th>Stu_NoAtt</th>\n",
       "      <th>Stu_Att</th>\n",
       "      <th>Total</th>\n",
       "      <th>NoAtt %</th>\n",
       "      <th>Att %</th>\n",
       "    </tr>\n",
       "  </thead>\n",
       "  <tbody>\n",
       "    <tr>\n",
       "      <th>0</th>\n",
       "      <td>1</td>\n",
       "      <td>179</td>\n",
       "      <td>2752</td>\n",
       "      <td>2931</td>\n",
       "      <td>6.107131</td>\n",
       "      <td>93.892869</td>\n",
       "    </tr>\n",
       "    <tr>\n",
       "      <th>1</th>\n",
       "      <td>2</td>\n",
       "      <td>98</td>\n",
       "      <td>2744</td>\n",
       "      <td>2842</td>\n",
       "      <td>3.448276</td>\n",
       "      <td>96.551724</td>\n",
       "    </tr>\n",
       "    <tr>\n",
       "      <th>2</th>\n",
       "      <td>3</td>\n",
       "      <td>78</td>\n",
       "      <td>2726</td>\n",
       "      <td>2804</td>\n",
       "      <td>2.781740</td>\n",
       "      <td>97.218260</td>\n",
       "    </tr>\n",
       "    <tr>\n",
       "      <th>3</th>\n",
       "      <td>4</td>\n",
       "      <td>71</td>\n",
       "      <td>2725</td>\n",
       "      <td>2796</td>\n",
       "      <td>2.539342</td>\n",
       "      <td>97.460658</td>\n",
       "    </tr>\n",
       "    <tr>\n",
       "      <th>4</th>\n",
       "      <td>5</td>\n",
       "      <td>66</td>\n",
       "      <td>2687</td>\n",
       "      <td>2753</td>\n",
       "      <td>2.397385</td>\n",
       "      <td>97.602615</td>\n",
       "    </tr>\n",
       "    <tr>\n",
       "      <th>5</th>\n",
       "      <td>6</td>\n",
       "      <td>68</td>\n",
       "      <td>2645</td>\n",
       "      <td>2713</td>\n",
       "      <td>2.506450</td>\n",
       "      <td>97.493550</td>\n",
       "    </tr>\n",
       "    <tr>\n",
       "      <th>6</th>\n",
       "      <td>7</td>\n",
       "      <td>62</td>\n",
       "      <td>2597</td>\n",
       "      <td>2659</td>\n",
       "      <td>2.331704</td>\n",
       "      <td>97.668296</td>\n",
       "    </tr>\n",
       "    <tr>\n",
       "      <th>7</th>\n",
       "      <td>8</td>\n",
       "      <td>31</td>\n",
       "      <td>2472</td>\n",
       "      <td>2503</td>\n",
       "      <td>1.238514</td>\n",
       "      <td>98.761486</td>\n",
       "    </tr>\n",
       "    <tr>\n",
       "      <th>8</th>\n",
       "      <td>9</td>\n",
       "      <td>56</td>\n",
       "      <td>2364</td>\n",
       "      <td>2420</td>\n",
       "      <td>2.314050</td>\n",
       "      <td>97.685950</td>\n",
       "    </tr>\n",
       "    <tr>\n",
       "      <th>9</th>\n",
       "      <td>10</td>\n",
       "      <td>18</td>\n",
       "      <td>2349</td>\n",
       "      <td>2367</td>\n",
       "      <td>0.760456</td>\n",
       "      <td>99.239544</td>\n",
       "    </tr>\n",
       "    <tr>\n",
       "      <th>10</th>\n",
       "      <td>11</td>\n",
       "      <td>45</td>\n",
       "      <td>2292</td>\n",
       "      <td>2337</td>\n",
       "      <td>1.925546</td>\n",
       "      <td>98.074454</td>\n",
       "    </tr>\n",
       "    <tr>\n",
       "      <th>11</th>\n",
       "      <td>12</td>\n",
       "      <td>15</td>\n",
       "      <td>2150</td>\n",
       "      <td>2165</td>\n",
       "      <td>0.692841</td>\n",
       "      <td>99.307159</td>\n",
       "    </tr>\n",
       "    <tr>\n",
       "      <th>12</th>\n",
       "      <td>13</td>\n",
       "      <td>4</td>\n",
       "      <td>2038</td>\n",
       "      <td>2042</td>\n",
       "      <td>0.195886</td>\n",
       "      <td>99.804114</td>\n",
       "    </tr>\n",
       "    <tr>\n",
       "      <th>13</th>\n",
       "      <td>14</td>\n",
       "      <td>5</td>\n",
       "      <td>1882</td>\n",
       "      <td>1887</td>\n",
       "      <td>0.264971</td>\n",
       "      <td>99.735029</td>\n",
       "    </tr>\n",
       "  </tbody>\n",
       "</table>\n",
       "</div>"
      ],
      "text/plain": [
       "    Item_Position  Stu_NoAtt  Stu_Att  Total   NoAtt %      Att %\n",
       "0               1        179     2752   2931  6.107131  93.892869\n",
       "1               2         98     2744   2842  3.448276  96.551724\n",
       "2               3         78     2726   2804  2.781740  97.218260\n",
       "3               4         71     2725   2796  2.539342  97.460658\n",
       "4               5         66     2687   2753  2.397385  97.602615\n",
       "5               6         68     2645   2713  2.506450  97.493550\n",
       "6               7         62     2597   2659  2.331704  97.668296\n",
       "7               8         31     2472   2503  1.238514  98.761486\n",
       "8               9         56     2364   2420  2.314050  97.685950\n",
       "9              10         18     2349   2367  0.760456  99.239544\n",
       "10             11         45     2292   2337  1.925546  98.074454\n",
       "11             12         15     2150   2165  0.692841  99.307159\n",
       "12             13          4     2038   2042  0.195886  99.804114\n",
       "13             14          5     1882   1887  0.264971  99.735029"
      ]
     },
     "execution_count": 55,
     "metadata": {},
     "output_type": "execute_result"
    }
   ],
   "source": [
    "new_assess_geof = new_assess[(new_assess['subject']=='geography')&(new_assess['attempted']=='False')]\n",
    "#new_assess_geo['Time1'] = new_assess_geo['session_completed'].dt.round(\"H\")\n",
    "#new_assess_geo['Time'] = new_assess_geo['Time1'].dt.strftime('%H:%M')\n",
    "dim5 = pd.DataFrame(new_assess_geof.groupby(['item_position'])['student_id'].nunique()).reset_index()\n",
    "dim5.columns = ['Item_Position','Stu_NoAtt']\n",
    "new_assess_geot = new_assess[(new_assess['subject']=='geography')&(new_assess['attempted']=='True')]\n",
    "dim6 = pd.DataFrame(new_assess_geot.groupby(['item_position'])['student_id'].nunique()).reset_index()\n",
    "dim6.columns = ['Item_Position','Stu_Att']\n",
    "df2 = pd.merge(dim5, dim6, on=['Item_Position'])\n",
    "df2['Total'] = df2['Stu_NoAtt']+df2['Stu_Att']\n",
    "df2['NoAtt %'] = (df2['Stu_NoAtt']/df2['Total'])*100\n",
    "df2['Att %'] = (df2['Stu_Att']/df2['Total'])*100\n",
    "df2"
   ]
  },
  {
   "cell_type": "code",
   "execution_count": 131,
   "id": "0c5c6f77",
   "metadata": {},
   "outputs": [
    {
     "data": {
      "text/html": [
       "<div>\n",
       "<style scoped>\n",
       "    .dataframe tbody tr th:only-of-type {\n",
       "        vertical-align: middle;\n",
       "    }\n",
       "\n",
       "    .dataframe tbody tr th {\n",
       "        vertical-align: top;\n",
       "    }\n",
       "\n",
       "    .dataframe thead th {\n",
       "        text-align: right;\n",
       "    }\n",
       "</style>\n",
       "<table border=\"1\" class=\"dataframe\">\n",
       "  <thead>\n",
       "    <tr style=\"text-align: right;\">\n",
       "      <th></th>\n",
       "      <th>District</th>\n",
       "      <th>Not Attempted</th>\n",
       "    </tr>\n",
       "  </thead>\n",
       "  <tbody>\n",
       "    <tr>\n",
       "      <th>0</th>\n",
       "      <td>district_10</td>\n",
       "      <td>137</td>\n",
       "    </tr>\n",
       "    <tr>\n",
       "      <th>1</th>\n",
       "      <td>district_12</td>\n",
       "      <td>206</td>\n",
       "    </tr>\n",
       "    <tr>\n",
       "      <th>2</th>\n",
       "      <td>district_13</td>\n",
       "      <td>14</td>\n",
       "    </tr>\n",
       "    <tr>\n",
       "      <th>3</th>\n",
       "      <td>district_14</td>\n",
       "      <td>4</td>\n",
       "    </tr>\n",
       "    <tr>\n",
       "      <th>4</th>\n",
       "      <td>district_4</td>\n",
       "      <td>443</td>\n",
       "    </tr>\n",
       "    <tr>\n",
       "      <th>5</th>\n",
       "      <td>district_5</td>\n",
       "      <td>19</td>\n",
       "    </tr>\n",
       "    <tr>\n",
       "      <th>6</th>\n",
       "      <td>district_7</td>\n",
       "      <td>121</td>\n",
       "    </tr>\n",
       "    <tr>\n",
       "      <th>7</th>\n",
       "      <td>district_9</td>\n",
       "      <td>82</td>\n",
       "    </tr>\n",
       "  </tbody>\n",
       "</table>\n",
       "</div>"
      ],
      "text/plain": [
       "      District  Not Attempted\n",
       "0  district_10            137\n",
       "1  district_12            206\n",
       "2  district_13             14\n",
       "3  district_14              4\n",
       "4   district_4            443\n",
       "5   district_5             19\n",
       "6   district_7            121\n",
       "7   district_9             82"
      ]
     },
     "execution_count": 131,
     "metadata": {},
     "output_type": "execute_result"
    }
   ],
   "source": [
    "stu_geof = pd.DataFrame(new_assess_geof.groupby(['district_id'])['item_position'].count()).reset_index()\n",
    "stu_geof.columns = ['District','Not Attempted']\n",
    "stu_geof"
   ]
  },
  {
   "cell_type": "code",
   "execution_count": 87,
   "id": "97b5b708",
   "metadata": {},
   "outputs": [
    {
     "data": {
      "text/html": [
       "<div>\n",
       "<style scoped>\n",
       "    .dataframe tbody tr th:only-of-type {\n",
       "        vertical-align: middle;\n",
       "    }\n",
       "\n",
       "    .dataframe tbody tr th {\n",
       "        vertical-align: top;\n",
       "    }\n",
       "\n",
       "    .dataframe thead th {\n",
       "        text-align: right;\n",
       "    }\n",
       "</style>\n",
       "<table border=\"1\" class=\"dataframe\">\n",
       "  <thead>\n",
       "    <tr style=\"text-align: right;\">\n",
       "      <th></th>\n",
       "      <th>item_position</th>\n",
       "      <th>student_id</th>\n",
       "    </tr>\n",
       "  </thead>\n",
       "  <tbody>\n",
       "    <tr>\n",
       "      <th>0</th>\n",
       "      <td>1</td>\n",
       "      <td>123</td>\n",
       "    </tr>\n",
       "    <tr>\n",
       "      <th>1</th>\n",
       "      <td>2</td>\n",
       "      <td>63</td>\n",
       "    </tr>\n",
       "    <tr>\n",
       "      <th>2</th>\n",
       "      <td>3</td>\n",
       "      <td>55</td>\n",
       "    </tr>\n",
       "    <tr>\n",
       "      <th>3</th>\n",
       "      <td>4</td>\n",
       "      <td>36</td>\n",
       "    </tr>\n",
       "    <tr>\n",
       "      <th>4</th>\n",
       "      <td>5</td>\n",
       "      <td>30</td>\n",
       "    </tr>\n",
       "    <tr>\n",
       "      <th>5</th>\n",
       "      <td>6</td>\n",
       "      <td>29</td>\n",
       "    </tr>\n",
       "    <tr>\n",
       "      <th>6</th>\n",
       "      <td>7</td>\n",
       "      <td>40</td>\n",
       "    </tr>\n",
       "    <tr>\n",
       "      <th>7</th>\n",
       "      <td>8</td>\n",
       "      <td>17</td>\n",
       "    </tr>\n",
       "    <tr>\n",
       "      <th>8</th>\n",
       "      <td>9</td>\n",
       "      <td>18</td>\n",
       "    </tr>\n",
       "    <tr>\n",
       "      <th>9</th>\n",
       "      <td>10</td>\n",
       "      <td>2</td>\n",
       "    </tr>\n",
       "    <tr>\n",
       "      <th>10</th>\n",
       "      <td>11</td>\n",
       "      <td>18</td>\n",
       "    </tr>\n",
       "    <tr>\n",
       "      <th>11</th>\n",
       "      <td>12</td>\n",
       "      <td>8</td>\n",
       "    </tr>\n",
       "    <tr>\n",
       "      <th>12</th>\n",
       "      <td>13</td>\n",
       "      <td>2</td>\n",
       "    </tr>\n",
       "    <tr>\n",
       "      <th>13</th>\n",
       "      <td>14</td>\n",
       "      <td>2</td>\n",
       "    </tr>\n",
       "  </tbody>\n",
       "</table>\n",
       "</div>"
      ],
      "text/plain": [
       "    item_position  student_id\n",
       "0               1         123\n",
       "1               2          63\n",
       "2               3          55\n",
       "3               4          36\n",
       "4               5          30\n",
       "5               6          29\n",
       "6               7          40\n",
       "7               8          17\n",
       "8               9          18\n",
       "9              10           2\n",
       "10             11          18\n",
       "11             12           8\n",
       "12             13           2\n",
       "13             14           2"
      ]
     },
     "execution_count": 87,
     "metadata": {},
     "output_type": "execute_result"
    }
   ],
   "source": [
    "d4 = new_assess_geof[new_assess_geof['district_id']=='district_4']\n",
    "stu_d4 = pd.DataFrame(d4.groupby(['item_position'])['student_id'].count()).reset_index()\n",
    "stu_d4"
   ]
  },
  {
   "cell_type": "markdown",
   "id": "4294c2f0",
   "metadata": {},
   "source": [
    "### Students performance in 2010"
   ]
  },
  {
   "cell_type": "code",
   "execution_count": 93,
   "id": "58006b0d",
   "metadata": {},
   "outputs": [
    {
     "data": {
      "image/png": "[encoded data removed]",
      "text/plain": [
       "<Figure size 432x432 with 1 Axes>"
      ]
     },
     "metadata": {
      "needs_background": "light"
     },
     "output_type": "display_data"
    }
   ],
   "source": [
    "df3 = pd.merge(Students_Performance10, Students_Performance11, on=['State','District','Student','School','Subject'])\n",
    "fig, ax = plt.subplots(figsize=(6, 6))\n",
    "sns.boxplot(df3['Subject'],df3['Student Score 2010'])\n",
    "plt.show()"
   ]
  },
  {
   "cell_type": "markdown",
   "id": "e8d8a078",
   "metadata": {},
   "source": [
    "### Students performance in 2011"
   ]
  },
  {
   "cell_type": "code",
   "execution_count": 94,
   "id": "d16fbfab",
   "metadata": {},
   "outputs": [
    {
     "data": {
      "image/png": "[encoded data removed]",
      "text/plain": [
       "<Figure size 432x432 with 1 Axes>"
      ]
     },
     "metadata": {
      "needs_background": "light"
     },
     "output_type": "display_data"
    }
   ],
   "source": [
    "fig, ax = plt.subplots(figsize=(6, 6))\n",
    "sns.boxplot(df3['Subject'],df3['Student Score 2011'])\n",
    "plt.show()"
   ]
  },
  {
   "cell_type": "code",
   "execution_count": 132,
   "id": "d33f2d48",
   "metadata": {},
   "outputs": [
    {
     "data": {
      "text/html": [
       "<div>\n",
       "<style scoped>\n",
       "    .dataframe tbody tr th:only-of-type {\n",
       "        vertical-align: middle;\n",
       "    }\n",
       "\n",
       "    .dataframe tbody tr th {\n",
       "        vertical-align: top;\n",
       "    }\n",
       "\n",
       "    .dataframe thead th {\n",
       "        text-align: right;\n",
       "    }\n",
       "</style>\n",
       "<table border=\"1\" class=\"dataframe\">\n",
       "  <thead>\n",
       "    <tr style=\"text-align: right;\">\n",
       "      <th></th>\n",
       "      <th>Subject</th>\n",
       "      <th>2010 Assessment</th>\n",
       "      <th>2011 Assessment</th>\n",
       "      <th>Total</th>\n",
       "    </tr>\n",
       "  </thead>\n",
       "  <tbody>\n",
       "    <tr>\n",
       "      <th>0</th>\n",
       "      <td>civics</td>\n",
       "      <td>706</td>\n",
       "      <td>674</td>\n",
       "      <td>1380</td>\n",
       "    </tr>\n",
       "    <tr>\n",
       "      <th>1</th>\n",
       "      <td>geography</td>\n",
       "      <td>3168</td>\n",
       "      <td>2636</td>\n",
       "      <td>5804</td>\n",
       "    </tr>\n",
       "    <tr>\n",
       "      <th>2</th>\n",
       "      <td>history</td>\n",
       "      <td>372</td>\n",
       "      <td>321</td>\n",
       "      <td>693</td>\n",
       "    </tr>\n",
       "  </tbody>\n",
       "</table>\n",
       "</div>"
      ],
      "text/plain": [
       "     Subject  2010 Assessment  2011 Assessment  Total\n",
       "0     civics              706              674   1380\n",
       "1  geography             3168             2636   5804\n",
       "2    history              372              321    693"
      ]
     },
     "execution_count": 132,
     "metadata": {},
     "output_type": "execute_result"
    }
   ],
   "source": [
    "sub_10 = pd.DataFrame(new_assess10.groupby(['subject'])['assessment_id'].nunique().round()).reset_index()\n",
    "sub_10.columns = ['Subject','2010 Assessment']\n",
    "sub_11 = pd.DataFrame(new_assess11.groupby(['subject'])['assessment_id'].nunique().round()).reset_index()\n",
    "sub_11.columns = ['Subject','2011 Assessment']\n",
    "sub_per = pd.merge(sub_10,sub_11,on=['Subject'])\n",
    "sub_per['Total'] = sub_per['2010 Assessment']+sub_per['2011 Assessment']\n",
    "sub_per"
   ]
  },
  {
   "cell_type": "markdown",
   "id": "5d10614b",
   "metadata": {},
   "source": [
    "### Insight:\n",
    "- Item position matter in framing the questions, earlier the questions from geography in assessments students are more likely to not attempt the question.\n",
    "- Student performance have increased on comparing 2010 and 2011, because of more exposure to the assessments at the end of the academic year."
   ]
  },
  {
   "cell_type": "markdown",
   "id": "0f3c0302",
   "metadata": {},
   "source": [
    "# Insight for Research Scholar"
   ]
  },
  {
   "cell_type": "markdown",
   "id": "709014df",
   "metadata": {},
   "source": [
    "### Districts comparision on student performance"
   ]
  },
  {
   "cell_type": "code",
   "execution_count": 71,
   "id": "56f1668f",
   "metadata": {},
   "outputs": [
    {
     "data": {
      "image/png": "[encoded data removed]",
      "text/plain": [
       "<Figure size 1296x720 with 1 Axes>"
      ]
     },
     "metadata": {
      "needs_background": "light"
     },
     "output_type": "display_data"
    }
   ],
   "source": [
    "fig, ax = plt.subplots(figsize=(18, 10))\n",
    "sns.boxplot(Students_Performance['District'],Students_Performance['Student Score'])\n",
    "plt.show()"
   ]
  },
  {
   "cell_type": "code",
   "execution_count": 133,
   "id": "e4147c46",
   "metadata": {},
   "outputs": [
    {
     "data": {
      "text/html": [
       "<div>\n",
       "<style scoped>\n",
       "    .dataframe tbody tr th:only-of-type {\n",
       "        vertical-align: middle;\n",
       "    }\n",
       "\n",
       "    .dataframe tbody tr th {\n",
       "        vertical-align: top;\n",
       "    }\n",
       "\n",
       "    .dataframe thead th {\n",
       "        text-align: right;\n",
       "    }\n",
       "</style>\n",
       "<table border=\"1\" class=\"dataframe\">\n",
       "  <thead>\n",
       "    <tr style=\"text-align: right;\">\n",
       "      <th></th>\n",
       "      <th>subject</th>\n",
       "      <th>assessment_id</th>\n",
       "    </tr>\n",
       "  </thead>\n",
       "  <tbody>\n",
       "    <tr>\n",
       "      <th>0</th>\n",
       "      <td>civics</td>\n",
       "      <td>651</td>\n",
       "    </tr>\n",
       "    <tr>\n",
       "      <th>1</th>\n",
       "      <td>geography</td>\n",
       "      <td>2752</td>\n",
       "    </tr>\n",
       "    <tr>\n",
       "      <th>2</th>\n",
       "      <td>history</td>\n",
       "      <td>280</td>\n",
       "    </tr>\n",
       "  </tbody>\n",
       "</table>\n",
       "</div>"
      ],
      "text/plain": [
       "     subject  assessment_id\n",
       "0     civics            651\n",
       "1  geography           2752\n",
       "2    history            280"
      ]
     },
     "execution_count": 133,
     "metadata": {},
     "output_type": "execute_result"
    }
   ],
   "source": [
    "# Top performing districts with assessment provided\n",
    "dis_sub1 = new_assess.loc[new_assess.District_ID=='5']\n",
    "dis_sub2 = new_assess.loc[new_assess.District_ID=='2']\n",
    "dis_sub3 = new_assess.loc[new_assess.District_ID=='7']\n",
    "dis_sub4 = new_assess.loc[new_assess.District_ID=='3']\n",
    "dis_sub5 = new_assess.loc[new_assess.District_ID=='13']\n",
    "dis_sub6 = new_assess.loc[new_assess.District_ID=='11']\n",
    "d1 = [dis_sub1,dis_sub2,dis_sub3,dis_sub4,dis_sub5,dis_sub6]\n",
    "dis_sub = pd.concat(d1).reset_index()\n",
    "dis_sub1 = dis_sub.drop(['index'],axis=1)\n",
    "dis_sub1 = pd.DataFrame(dis_sub.groupby(['subject'])['assessment_id'].nunique().round()).reset_index()\n",
    "#dis_sub1['Assessment %'] = (dis_sub1['assessment_id'].div(sum(dis_sub1['assessment_id']))*100).round()\n",
    "dis_sub1"
   ]
  },
  {
   "cell_type": "code",
   "execution_count": 134,
   "id": "955f7b62",
   "metadata": {},
   "outputs": [
    {
     "data": {
      "text/html": [
       "<div>\n",
       "<style scoped>\n",
       "    .dataframe tbody tr th:only-of-type {\n",
       "        vertical-align: middle;\n",
       "    }\n",
       "\n",
       "    .dataframe tbody tr th {\n",
       "        vertical-align: top;\n",
       "    }\n",
       "\n",
       "    .dataframe thead th {\n",
       "        text-align: right;\n",
       "    }\n",
       "</style>\n",
       "<table border=\"1\" class=\"dataframe\">\n",
       "  <thead>\n",
       "    <tr style=\"text-align: right;\">\n",
       "      <th></th>\n",
       "      <th>subject</th>\n",
       "      <th>assessment_id</th>\n",
       "    </tr>\n",
       "  </thead>\n",
       "  <tbody>\n",
       "    <tr>\n",
       "      <th>0</th>\n",
       "      <td>civics</td>\n",
       "      <td>595</td>\n",
       "    </tr>\n",
       "    <tr>\n",
       "      <th>1</th>\n",
       "      <td>geography</td>\n",
       "      <td>32</td>\n",
       "    </tr>\n",
       "    <tr>\n",
       "      <th>2</th>\n",
       "      <td>history</td>\n",
       "      <td>275</td>\n",
       "    </tr>\n",
       "  </tbody>\n",
       "</table>\n",
       "</div>"
      ],
      "text/plain": [
       "     subject  assessment_id\n",
       "0     civics            595\n",
       "1  geography             32\n",
       "2    history            275"
      ]
     },
     "execution_count": 134,
     "metadata": {},
     "output_type": "execute_result"
    }
   ],
   "source": [
    "# Low performing districs with assessment provided\n",
    "dis_sub7 = new_assess.loc[new_assess.District_ID=='6']\n",
    "dis_sub8 = new_assess.loc[new_assess.District_ID=='14']\n",
    "dis_sub9 = new_assess.loc[new_assess.District_ID=='1']\n",
    "dis_sub10 = new_assess.loc[new_assess.District_ID=='0']\n",
    "dis_sub11 = new_assess.loc[new_assess.District_ID=='8']\n",
    "d2 = [dis_sub7,dis_sub8,dis_sub9,dis_sub10,dis_sub11]\n",
    "dis_subb = pd.concat(d2).reset_index()\n",
    "dis_subb = dis_subb.drop(['index'],axis=1)\n",
    "dis_sub11 = pd.DataFrame(dis_subb.groupby(['subject'])['assessment_id'].nunique().round()).reset_index()\n",
    "#dis_sub11['Assessment %'] = (dis_sub11['assessment_id'].div(sum(dis_sub11['assessment_id']))*100).round()\n",
    "dis_sub11"
   ]
  },
  {
   "cell_type": "code",
   "execution_count": 74,
   "id": "cd6f6c53",
   "metadata": {},
   "outputs": [
    {
     "name": "stdout",
     "output_type": "stream",
     "text": [
      "Total Assessment for top performing districts: 3683\n",
      "Total Assessment for low performing districts: 902\n"
     ]
    }
   ],
   "source": [
    "print(\"Total Assessment for top performing districts: \" + str(sum(dis_sub1['assessment_id'])))\n",
    "print(\"Total Assessment for low performing districts: \" + str(sum(dis_sub11['assessment_id'])))"
   ]
  },
  {
   "cell_type": "markdown",
   "id": "c9fad37a",
   "metadata": {},
   "source": [
    "### Insight:\n",
    "- Assessment from geography plays a vital role in deciding the student performance, also the total number of assessments."
   ]
  },
  {
   "cell_type": "markdown",
   "id": "af925e8c",
   "metadata": {},
   "source": [
    "### Correlation between students assessments and average score"
   ]
  },
  {
   "cell_type": "code",
   "execution_count": 111,
   "id": "59ed3a60",
   "metadata": {},
   "outputs": [
    {
     "name": "stdout",
     "output_type": "stream",
     "text": [
      "Correlation value: 0.3201440725049224\n"
     ]
    }
   ],
   "source": [
    "stu_asses = pd.DataFrame(Assessment_Score.groupby(['Student'])['Assignment'].nunique().round()).reset_index()\n",
    "stu_avg = pd.DataFrame(Assessment_Score.groupby(['Student'])['Student Score'].mean().round()).reset_index()\n",
    "stu_asses_avg = pd.merge(stu_asses, stu_avg, on=['Student'])\n",
    "\n",
    "cor = np.corrcoef(stu_asses_avg['Assignment'], stu_asses_avg['Student Score'])[0,1]\n",
    "print(\"Correlation value: \"+str(cor))"
   ]
  },
  {
   "cell_type": "markdown",
   "id": "798152bb",
   "metadata": {},
   "source": [
    "- Number of assessments has an effect on student performance."
   ]
  },
  {
   "cell_type": "markdown",
   "id": "e371dc80",
   "metadata": {},
   "source": [
    "# Part - 2"
   ]
  },
  {
   "cell_type": "code",
   "execution_count": 112,
   "id": "7859df04",
   "metadata": {},
   "outputs": [
    {
     "data": {
      "application/vnd.plotly.v1+json": {
       "config": {
        "plotlyServerURL": "https://plot.ly"
       },
       "data": [
        {
         "colorbar": {
          "title": {
           "text": "School Count"
          }
         },
         "colorscale": [
          [
           0,
           "rgb(255,245,240)"
          ],
          [
           0.125,
           "rgb(254,224,210)"
          ],
          [
           0.25,
           "rgb(252,187,161)"
          ],
          [
           0.375,
           "rgb(252,146,114)"
          ],
          [
           0.5,
           "rgb(251,106,74)"
          ],
          [
           0.625,
           "rgb(239,59,44)"
          ],
          [
           0.75,
           "rgb(203,24,29)"
          ],
          [
           0.875,
           "rgb(165,15,21)"
          ],
          [
           1,
           "rgb(103,0,13)"
          ]
         ],
         "locationmode": "USA-states",
         "locations": [
          "CA",
          "IL",
          "KS",
          "ME",
          "TX"
         ],
         "type": "choropleth",
         "z": [
          101,
          73,
          44,
          46,
          71
         ]
        }
       ],
       "layout": {
        "geo": {
         "scope": "usa"
        },
        "template": {
         "data": {
          "bar": [
           {
            "error_x": {
             "color": "#2a3f5f"
            },
            "error_y": {
             "color": "#2a3f5f"
            },
            "marker": {
             "line": {
              "color": "#E5ECF6",
              "width": 0.5
             },
             "pattern": {
              "fillmode": "overlay",
              "size": 10,
              "solidity": 0.2
             }
            },
            "type": "bar"
           }
          ],
          "barpolar": [
           {
            "marker": {
             "line": {
              "color": "#E5ECF6",
              "width": 0.5
             },
             "pattern": {
              "fillmode": "overlay",
              "size": 10,
              "solidity": 0.2
             }
            },
            "type": "barpolar"
           }
          ],
          "carpet": [
           {
            "aaxis": {
             "endlinecolor": "#2a3f5f",
             "gridcolor": "white",
             "linecolor": "white",
             "minorgridcolor": "white",
             "startlinecolor": "#2a3f5f"
            },
            "baxis": {
             "endlinecolor": "#2a3f5f",
             "gridcolor": "white",
             "linecolor": "white",
             "minorgridcolor": "white",
             "startlinecolor": "#2a3f5f"
            },
            "type": "carpet"
           }
          ],
          "choropleth": [
           {
            "colorbar": {
             "outlinewidth": 0,
             "ticks": ""
            },
            "type": "choropleth"
           }
          ],
          "contour": [
           {
            "colorbar": {
             "outlinewidth": 0,
             "ticks": ""
            },
            "colorscale": [
             [
              0,
              "#0d0887"
             ],
             [
              0.1111111111111111,
              "#46039f"
             ],
             [
              0.2222222222222222,
              "#7201a8"
             ],
             [
              0.3333333333333333,
              "#9c179e"
             ],
             [
              0.4444444444444444,
              "#bd3786"
             ],
             [
              0.5555555555555556,
              "#d8576b"
             ],
             [
              0.6666666666666666,
              "#ed7953"
             ],
             [
              0.7777777777777778,
              "#fb9f3a"
             ],
             [
              0.8888888888888888,
              "#fdca26"
             ],
             [
              1,
              "#f0f921"
             ]
            ],
            "type": "contour"
           }
          ],
          "contourcarpet": [
           {
            "colorbar": {
             "outlinewidth": 0,
             "ticks": ""
            },
            "type": "contourcarpet"
           }
          ],
          "heatmap": [
           {
            "colorbar": {
             "outlinewidth": 0,
             "ticks": ""
            },
            "colorscale": [
             [
              0,
              "#0d0887"
             ],
             [
              0.1111111111111111,
              "#46039f"
             ],
             [
              0.2222222222222222,
              "#7201a8"
             ],
             [
              0.3333333333333333,
              "#9c179e"
             ],
             [
              0.4444444444444444,
              "#bd3786"
             ],
             [
              0.5555555555555556,
              "#d8576b"
             ],
             [
              0.6666666666666666,
              "#ed7953"
             ],
             [
              0.7777777777777778,
              "#fb9f3a"
             ],
             [
              0.8888888888888888,
              "#fdca26"
             ],
             [
              1,
              "#f0f921"
             ]
            ],
            "type": "heatmap"
           }
          ],
          "heatmapgl": [
           {
            "colorbar": {
             "outlinewidth": 0,
             "ticks": ""
            },
            "colorscale": [
             [
              0,
              "#0d0887"
             ],
             [
              0.1111111111111111,
              "#46039f"
             ],
             [
              0.2222222222222222,
              "#7201a8"
             ],
             [
              0.3333333333333333,
              "#9c179e"
             ],
             [
              0.4444444444444444,
              "#bd3786"
             ],
             [
              0.5555555555555556,
              "#d8576b"
             ],
             [
              0.6666666666666666,
              "#ed7953"
             ],
             [
              0.7777777777777778,
              "#fb9f3a"
             ],
             [
              0.8888888888888888,
              "#fdca26"
             ],
             [
              1,
              "#f0f921"
             ]
            ],
            "type": "heatmapgl"
           }
          ],
          "histogram": [
           {
            "marker": {
             "pattern": {
              "fillmode": "overlay",
              "size": 10,
              "solidity": 0.2
             }
            },
            "type": "histogram"
           }
          ],
          "histogram2d": [
           {
            "colorbar": {
             "outlinewidth": 0,
             "ticks": ""
            },
            "colorscale": [
             [
              0,
              "#0d0887"
             ],
             [
              0.1111111111111111,
              "#46039f"
             ],
             [
              0.2222222222222222,
              "#7201a8"
             ],
             [
              0.3333333333333333,
              "#9c179e"
             ],
             [
              0.4444444444444444,
              "#bd3786"
             ],
             [
              0.5555555555555556,
              "#d8576b"
             ],
             [
              0.6666666666666666,
              "#ed7953"
             ],
             [
              0.7777777777777778,
              "#fb9f3a"
             ],
             [
              0.8888888888888888,
              "#fdca26"
             ],
             [
              1,
              "#f0f921"
             ]
            ],
            "type": "histogram2d"
           }
          ],
          "histogram2dcontour": [
           {
            "colorbar": {
             "outlinewidth": 0,
             "ticks": ""
            },
            "colorscale": [
             [
              0,
              "#0d0887"
             ],
             [
              0.1111111111111111,
              "#46039f"
             ],
             [
              0.2222222222222222,
              "#7201a8"
             ],
             [
              0.3333333333333333,
              "#9c179e"
             ],
             [
              0.4444444444444444,
              "#bd3786"
             ],
             [
              0.5555555555555556,
              "#d8576b"
             ],
             [
              0.6666666666666666,
              "#ed7953"
             ],
             [
              0.7777777777777778,
              "#fb9f3a"
             ],
             [
              0.8888888888888888,
              "#fdca26"
             ],
             [
              1,
              "#f0f921"
             ]
            ],
            "type": "histogram2dcontour"
           }
          ],
          "mesh3d": [
           {
            "colorbar": {
             "outlinewidth": 0,
             "ticks": ""
            },
            "type": "mesh3d"
           }
          ],
          "parcoords": [
           {
            "line": {
             "colorbar": {
              "outlinewidth": 0,
              "ticks": ""
             }
            },
            "type": "parcoords"
           }
          ],
          "pie": [
           {
            "automargin": true,
            "type": "pie"
           }
          ],
          "scatter": [
           {
            "marker": {
             "colorbar": {
              "outlinewidth": 0,
              "ticks": ""
             }
            },
            "type": "scatter"
           }
          ],
          "scatter3d": [
           {
            "line": {
             "colorbar": {
              "outlinewidth": 0,
              "ticks": ""
             }
            },
            "marker": {
             "colorbar": {
              "outlinewidth": 0,
              "ticks": ""
             }
            },
            "type": "scatter3d"
           }
          ],
          "scattercarpet": [
           {
            "marker": {
             "colorbar": {
              "outlinewidth": 0,
              "ticks": ""
             }
            },
            "type": "scattercarpet"
           }
          ],
          "scattergeo": [
           {
            "marker": {
             "colorbar": {
              "outlinewidth": 0,
              "ticks": ""
             }
            },
            "type": "scattergeo"
           }
          ],
          "scattergl": [
           {
            "marker": {
             "colorbar": {
              "outlinewidth": 0,
              "ticks": ""
             }
            },
            "type": "scattergl"
           }
          ],
          "scattermapbox": [
           {
            "marker": {
             "colorbar": {
              "outlinewidth": 0,
              "ticks": ""
             }
            },
            "type": "scattermapbox"
           }
          ],
          "scatterpolar": [
           {
            "marker": {
             "colorbar": {
              "outlinewidth": 0,
              "ticks": ""
             }
            },
            "type": "scatterpolar"
           }
          ],
          "scatterpolargl": [
           {
            "marker": {
             "colorbar": {
              "outlinewidth": 0,
              "ticks": ""
             }
            },
            "type": "scatterpolargl"
           }
          ],
          "scatterternary": [
           {
            "marker": {
             "colorbar": {
              "outlinewidth": 0,
              "ticks": ""
             }
            },
            "type": "scatterternary"
           }
          ],
          "surface": [
           {
            "colorbar": {
             "outlinewidth": 0,
             "ticks": ""
            },
            "colorscale": [
             [
              0,
              "#0d0887"
             ],
             [
              0.1111111111111111,
              "#46039f"
             ],
             [
              0.2222222222222222,
              "#7201a8"
             ],
             [
              0.3333333333333333,
              "#9c179e"
             ],
             [
              0.4444444444444444,
              "#bd3786"
             ],
             [
              0.5555555555555556,
              "#d8576b"
             ],
             [
              0.6666666666666666,
              "#ed7953"
             ],
             [
              0.7777777777777778,
              "#fb9f3a"
             ],
             [
              0.8888888888888888,
              "#fdca26"
             ],
             [
              1,
              "#f0f921"
             ]
            ],
            "type": "surface"
           }
          ],
          "table": [
           {
            "cells": {
             "fill": {
              "color": "#EBF0F8"
             },
             "line": {
              "color": "white"
             }
            },
            "header": {
             "fill": {
              "color": "#C8D4E3"
             },
             "line": {
              "color": "white"
             }
            },
            "type": "table"
           }
          ]
         },
         "layout": {
          "annotationdefaults": {
           "arrowcolor": "#2a3f5f",
           "arrowhead": 0,
           "arrowwidth": 1
          },
          "autotypenumbers": "strict",
          "coloraxis": {
           "colorbar": {
            "outlinewidth": 0,
            "ticks": ""
           }
          },
          "colorscale": {
           "diverging": [
            [
             0,
             "#8e0152"
            ],
            [
             0.1,
             "#c51b7d"
            ],
            [
             0.2,
             "#de77ae"
            ],
            [
             0.3,
             "#f1b6da"
            ],
            [
             0.4,
             "#fde0ef"
            ],
            [
             0.5,
             "#f7f7f7"
            ],
            [
             0.6,
             "#e6f5d0"
            ],
            [
             0.7,
             "#b8e186"
            ],
            [
             0.8,
             "#7fbc41"
            ],
            [
             0.9,
             "#4d9221"
            ],
            [
             1,
             "#276419"
            ]
           ],
           "sequential": [
            [
             0,
             "#0d0887"
            ],
            [
             0.1111111111111111,
             "#46039f"
            ],
            [
             0.2222222222222222,
             "#7201a8"
            ],
            [
             0.3333333333333333,
             "#9c179e"
            ],
            [
             0.4444444444444444,
             "#bd3786"
            ],
            [
             0.5555555555555556,
             "#d8576b"
            ],
            [
             0.6666666666666666,
             "#ed7953"
            ],
            [
             0.7777777777777778,
             "#fb9f3a"
            ],
            [
             0.8888888888888888,
             "#fdca26"
            ],
            [
             1,
             "#f0f921"
            ]
           ],
           "sequentialminus": [
            [
             0,
             "#0d0887"
            ],
            [
             0.1111111111111111,
             "#46039f"
            ],
            [
             0.2222222222222222,
             "#7201a8"
            ],
            [
             0.3333333333333333,
             "#9c179e"
            ],
            [
             0.4444444444444444,
             "#bd3786"
            ],
            [
             0.5555555555555556,
             "#d8576b"
            ],
            [
             0.6666666666666666,
             "#ed7953"
            ],
            [
             0.7777777777777778,
             "#fb9f3a"
            ],
            [
             0.8888888888888888,
             "#fdca26"
            ],
            [
             1,
             "#f0f921"
            ]
           ]
          },
          "colorway": [
           "#636efa",
           "#EF553B",
           "#00cc96",
           "#ab63fa",
           "#FFA15A",
           "#19d3f3",
           "#FF6692",
           "#B6E880",
           "#FF97FF",
           "#FECB52"
          ],
          "font": {
           "color": "#2a3f5f"
          },
          "geo": {
           "bgcolor": "white",
           "lakecolor": "white",
           "landcolor": "#E5ECF6",
           "showlakes": true,
           "showland": true,
           "subunitcolor": "white"
          },
          "hoverlabel": {
           "align": "left"
          },
          "hovermode": "closest",
          "mapbox": {
           "style": "light"
          },
          "paper_bgcolor": "white",
          "plot_bgcolor": "#E5ECF6",
          "polar": {
           "angularaxis": {
            "gridcolor": "white",
            "linecolor": "white",
            "ticks": ""
           },
           "bgcolor": "#E5ECF6",
           "radialaxis": {
            "gridcolor": "white",
            "linecolor": "white",
            "ticks": ""
           }
          },
          "scene": {
           "xaxis": {
            "backgroundcolor": "#E5ECF6",
            "gridcolor": "white",
            "gridwidth": 2,
            "linecolor": "white",
            "showbackground": true,
            "ticks": "",
            "zerolinecolor": "white"
           },
           "yaxis": {
            "backgroundcolor": "#E5ECF6",
            "gridcolor": "white",
            "gridwidth": 2,
            "linecolor": "white",
            "showbackground": true,
            "ticks": "",
            "zerolinecolor": "white"
           },
           "zaxis": {
            "backgroundcolor": "#E5ECF6",
            "gridcolor": "white",
            "gridwidth": 2,
            "linecolor": "white",
            "showbackground": true,
            "ticks": "",
            "zerolinecolor": "white"
           }
          },
          "shapedefaults": {
           "line": {
            "color": "#2a3f5f"
           }
          },
          "ternary": {
           "aaxis": {
            "gridcolor": "white",
            "linecolor": "white",
            "ticks": ""
           },
           "baxis": {
            "gridcolor": "white",
            "linecolor": "white",
            "ticks": ""
           },
           "bgcolor": "#E5ECF6",
           "caxis": {
            "gridcolor": "white",
            "linecolor": "white",
            "ticks": ""
           }
          },
          "title": {
           "x": 0.05
          },
          "xaxis": {
           "automargin": true,
           "gridcolor": "white",
           "linecolor": "white",
           "ticks": "",
           "title": {
            "standoff": 15
           },
           "zerolinecolor": "white",
           "zerolinewidth": 2
          },
          "yaxis": {
           "automargin": true,
           "gridcolor": "white",
           "linecolor": "white",
           "ticks": "",
           "title": {
            "standoff": 15
           },
           "zerolinecolor": "white",
           "zerolinewidth": 2
          }
         }
        },
        "title": {
         "text": "HMH Business"
        }
       }
      },
      "text/html": [
       "<div>                            <div id=\"9265ac6e-6256-48a8-9bbc-de1f95502a97\" class=\"plotly-graph-div\" style=\"height:525px; width:100%;\"></div>            <script type=\"text/javascript\">                require([\"plotly\"], function(Plotly) {                    window.PLOTLYENV=window.PLOTLYENV || {};                                    if (document.getElementById(\"9265ac6e-6256-48a8-9bbc-de1f95502a97\")) {                    Plotly.newPlot(                        \"9265ac6e-6256-48a8-9bbc-de1f95502a97\",                        [{\"colorbar\":{\"title\":{\"text\":\"School Count\"}},\"colorscale\":[[0.0,\"rgb(255,245,240)\"],[0.125,\"rgb(254,224,210)\"],[0.25,\"rgb(252,187,161)\"],[0.375,\"rgb(252,146,114)\"],[0.5,\"rgb(251,106,74)\"],[0.625,\"rgb(239,59,44)\"],[0.75,\"rgb(203,24,29)\"],[0.875,\"rgb(165,15,21)\"],[1.0,\"rgb(103,0,13)\"]],\"locationmode\":\"USA-states\",\"locations\":[\"CA\",\"IL\",\"KS\",\"ME\",\"TX\"],\"z\":[101,73,44,46,71],\"type\":\"choropleth\"}],                        {\"template\":{\"data\":{\"bar\":[{\"error_x\":{\"color\":\"#2a3f5f\"},\"error_y\":{\"color\":\"#2a3f5f\"},\"marker\":{\"line\":{\"color\":\"#E5ECF6\",\"width\":0.5},\"pattern\":{\"fillmode\":\"overlay\",\"size\":10,\"solidity\":0.2}},\"type\":\"bar\"}],\"barpolar\":[{\"marker\":{\"line\":{\"color\":\"#E5ECF6\",\"width\":0.5},\"pattern\":{\"fillmode\":\"overlay\",\"size\":10,\"solidity\":0.2}},\"type\":\"barpolar\"}],\"carpet\":[{\"aaxis\":{\"endlinecolor\":\"#2a3f5f\",\"gridcolor\":\"white\",\"linecolor\":\"white\",\"minorgridcolor\":\"white\",\"startlinecolor\":\"#2a3f5f\"},\"baxis\":{\"endlinecolor\":\"#2a3f5f\",\"gridcolor\":\"white\",\"linecolor\":\"white\",\"minorgridcolor\":\"white\",\"startlinecolor\":\"#2a3f5f\"},\"type\":\"carpet\"}],\"choropleth\":[{\"colorbar\":{\"outlinewidth\":0,\"ticks\":\"\"},\"type\":\"choropleth\"}],\"contour\":[{\"colorbar\":{\"outlinewidth\":0,\"ticks\":\"\"},\"colorscale\":[[0.0,\"#0d0887\"],[0.1111111111111111,\"#46039f\"],[0.2222222222222222,\"#7201a8\"],[0.3333333333333333,\"#9c179e\"],[0.4444444444444444,\"#bd3786\"],[0.5555555555555556,\"#d8576b\"],[0.6666666666666666,\"#ed7953\"],[0.7777777777777778,\"#fb9f3a\"],[0.8888888888888888,\"#fdca26\"],[1.0,\"#f0f921\"]],\"type\":\"contour\"}],\"contourcarpet\":[{\"colorbar\":{\"outlinewidth\":0,\"ticks\":\"\"},\"type\":\"contourcarpet\"}],\"heatmap\":[{\"colorbar\":{\"outlinewidth\":0,\"ticks\":\"\"},\"colorscale\":[[0.0,\"#0d0887\"],[0.1111111111111111,\"#46039f\"],[0.2222222222222222,\"#7201a8\"],[0.3333333333333333,\"#9c179e\"],[0.4444444444444444,\"#bd3786\"],[0.5555555555555556,\"#d8576b\"],[0.6666666666666666,\"#ed7953\"],[0.7777777777777778,\"#fb9f3a\"],[0.8888888888888888,\"#fdca26\"],[1.0,\"#f0f921\"]],\"type\":\"heatmap\"}],\"heatmapgl\":[{\"colorbar\":{\"outlinewidth\":0,\"ticks\":\"\"},\"colorscale\":[[0.0,\"#0d0887\"],[0.1111111111111111,\"#46039f\"],[0.2222222222222222,\"#7201a8\"],[0.3333333333333333,\"#9c179e\"],[0.4444444444444444,\"#bd3786\"],[0.5555555555555556,\"#d8576b\"],[0.6666666666666666,\"#ed7953\"],[0.7777777777777778,\"#fb9f3a\"],[0.8888888888888888,\"#fdca26\"],[1.0,\"#f0f921\"]],\"type\":\"heatmapgl\"}],\"histogram\":[{\"marker\":{\"pattern\":{\"fillmode\":\"overlay\",\"size\":10,\"solidity\":0.2}},\"type\":\"histogram\"}],\"histogram2d\":[{\"colorbar\":{\"outlinewidth\":0,\"ticks\":\"\"},\"colorscale\":[[0.0,\"#0d0887\"],[0.1111111111111111,\"#46039f\"],[0.2222222222222222,\"#7201a8\"],[0.3333333333333333,\"#9c179e\"],[0.4444444444444444,\"#bd3786\"],[0.5555555555555556,\"#d8576b\"],[0.6666666666666666,\"#ed7953\"],[0.7777777777777778,\"#fb9f3a\"],[0.8888888888888888,\"#fdca26\"],[1.0,\"#f0f921\"]],\"type\":\"histogram2d\"}],\"histogram2dcontour\":[{\"colorbar\":{\"outlinewidth\":0,\"ticks\":\"\"},\"colorscale\":[[0.0,\"#0d0887\"],[0.1111111111111111,\"#46039f\"],[0.2222222222222222,\"#7201a8\"],[0.3333333333333333,\"#9c179e\"],[0.4444444444444444,\"#bd3786\"],[0.5555555555555556,\"#d8576b\"],[0.6666666666666666,\"#ed7953\"],[0.7777777777777778,\"#fb9f3a\"],[0.8888888888888888,\"#fdca26\"],[1.0,\"#f0f921\"]],\"type\":\"histogram2dcontour\"}],\"mesh3d\":[{\"colorbar\":{\"outlinewidth\":0,\"ticks\":\"\"},\"type\":\"mesh3d\"}],\"parcoords\":[{\"line\":{\"colorbar\":{\"outlinewidth\":0,\"ticks\":\"\"}},\"type\":\"parcoords\"}],\"pie\":[{\"automargin\":true,\"type\":\"pie\"}],\"scatter\":[{\"marker\":{\"colorbar\":{\"outlinewidth\":0,\"ticks\":\"\"}},\"type\":\"scatter\"}],\"scatter3d\":[{\"line\":{\"colorbar\":{\"outlinewidth\":0,\"ticks\":\"\"}},\"marker\":{\"colorbar\":{\"outlinewidth\":0,\"ticks\":\"\"}},\"type\":\"scatter3d\"}],\"scattercarpet\":[{\"marker\":{\"colorbar\":{\"outlinewidth\":0,\"ticks\":\"\"}},\"type\":\"scattercarpet\"}],\"scattergeo\":[{\"marker\":{\"colorbar\":{\"outlinewidth\":0,\"ticks\":\"\"}},\"type\":\"scattergeo\"}],\"scattergl\":[{\"marker\":{\"colorbar\":{\"outlinewidth\":0,\"ticks\":\"\"}},\"type\":\"scattergl\"}],\"scattermapbox\":[{\"marker\":{\"colorbar\":{\"outlinewidth\":0,\"ticks\":\"\"}},\"type\":\"scattermapbox\"}],\"scatterpolar\":[{\"marker\":{\"colorbar\":{\"outlinewidth\":0,\"ticks\":\"\"}},\"type\":\"scatterpolar\"}],\"scatterpolargl\":[{\"marker\":{\"colorbar\":{\"outlinewidth\":0,\"ticks\":\"\"}},\"type\":\"scatterpolargl\"}],\"scatterternary\":[{\"marker\":{\"colorbar\":{\"outlinewidth\":0,\"ticks\":\"\"}},\"type\":\"scatterternary\"}],\"surface\":[{\"colorbar\":{\"outlinewidth\":0,\"ticks\":\"\"},\"colorscale\":[[0.0,\"#0d0887\"],[0.1111111111111111,\"#46039f\"],[0.2222222222222222,\"#7201a8\"],[0.3333333333333333,\"#9c179e\"],[0.4444444444444444,\"#bd3786\"],[0.5555555555555556,\"#d8576b\"],[0.6666666666666666,\"#ed7953\"],[0.7777777777777778,\"#fb9f3a\"],[0.8888888888888888,\"#fdca26\"],[1.0,\"#f0f921\"]],\"type\":\"surface\"}],\"table\":[{\"cells\":{\"fill\":{\"color\":\"#EBF0F8\"},\"line\":{\"color\":\"white\"}},\"header\":{\"fill\":{\"color\":\"#C8D4E3\"},\"line\":{\"color\":\"white\"}},\"type\":\"table\"}]},\"layout\":{\"annotationdefaults\":{\"arrowcolor\":\"#2a3f5f\",\"arrowhead\":0,\"arrowwidth\":1},\"autotypenumbers\":\"strict\",\"coloraxis\":{\"colorbar\":{\"outlinewidth\":0,\"ticks\":\"\"}},\"colorscale\":{\"diverging\":[[0,\"#8e0152\"],[0.1,\"#c51b7d\"],[0.2,\"#de77ae\"],[0.3,\"#f1b6da\"],[0.4,\"#fde0ef\"],[0.5,\"#f7f7f7\"],[0.6,\"#e6f5d0\"],[0.7,\"#b8e186\"],[0.8,\"#7fbc41\"],[0.9,\"#4d9221\"],[1,\"#276419\"]],\"sequential\":[[0.0,\"#0d0887\"],[0.1111111111111111,\"#46039f\"],[0.2222222222222222,\"#7201a8\"],[0.3333333333333333,\"#9c179e\"],[0.4444444444444444,\"#bd3786\"],[0.5555555555555556,\"#d8576b\"],[0.6666666666666666,\"#ed7953\"],[0.7777777777777778,\"#fb9f3a\"],[0.8888888888888888,\"#fdca26\"],[1.0,\"#f0f921\"]],\"sequentialminus\":[[0.0,\"#0d0887\"],[0.1111111111111111,\"#46039f\"],[0.2222222222222222,\"#7201a8\"],[0.3333333333333333,\"#9c179e\"],[0.4444444444444444,\"#bd3786\"],[0.5555555555555556,\"#d8576b\"],[0.6666666666666666,\"#ed7953\"],[0.7777777777777778,\"#fb9f3a\"],[0.8888888888888888,\"#fdca26\"],[1.0,\"#f0f921\"]]},\"colorway\":[\"#636efa\",\"#EF553B\",\"#00cc96\",\"#ab63fa\",\"#FFA15A\",\"#19d3f3\",\"#FF6692\",\"#B6E880\",\"#FF97FF\",\"#FECB52\"],\"font\":{\"color\":\"#2a3f5f\"},\"geo\":{\"bgcolor\":\"white\",\"lakecolor\":\"white\",\"landcolor\":\"#E5ECF6\",\"showlakes\":true,\"showland\":true,\"subunitcolor\":\"white\"},\"hoverlabel\":{\"align\":\"left\"},\"hovermode\":\"closest\",\"mapbox\":{\"style\":\"light\"},\"paper_bgcolor\":\"white\",\"plot_bgcolor\":\"#E5ECF6\",\"polar\":{\"angularaxis\":{\"gridcolor\":\"white\",\"linecolor\":\"white\",\"ticks\":\"\"},\"bgcolor\":\"#E5ECF6\",\"radialaxis\":{\"gridcolor\":\"white\",\"linecolor\":\"white\",\"ticks\":\"\"}},\"scene\":{\"xaxis\":{\"backgroundcolor\":\"#E5ECF6\",\"gridcolor\":\"white\",\"gridwidth\":2,\"linecolor\":\"white\",\"showbackground\":true,\"ticks\":\"\",\"zerolinecolor\":\"white\"},\"yaxis\":{\"backgroundcolor\":\"#E5ECF6\",\"gridcolor\":\"white\",\"gridwidth\":2,\"linecolor\":\"white\",\"showbackground\":true,\"ticks\":\"\",\"zerolinecolor\":\"white\"},\"zaxis\":{\"backgroundcolor\":\"#E5ECF6\",\"gridcolor\":\"white\",\"gridwidth\":2,\"linecolor\":\"white\",\"showbackground\":true,\"ticks\":\"\",\"zerolinecolor\":\"white\"}},\"shapedefaults\":{\"line\":{\"color\":\"#2a3f5f\"}},\"ternary\":{\"aaxis\":{\"gridcolor\":\"white\",\"linecolor\":\"white\",\"ticks\":\"\"},\"baxis\":{\"gridcolor\":\"white\",\"linecolor\":\"white\",\"ticks\":\"\"},\"bgcolor\":\"#E5ECF6\",\"caxis\":{\"gridcolor\":\"white\",\"linecolor\":\"white\",\"ticks\":\"\"}},\"title\":{\"x\":0.05},\"xaxis\":{\"automargin\":true,\"gridcolor\":\"white\",\"linecolor\":\"white\",\"ticks\":\"\",\"title\":{\"standoff\":15},\"zerolinecolor\":\"white\",\"zerolinewidth\":2},\"yaxis\":{\"automargin\":true,\"gridcolor\":\"white\",\"linecolor\":\"white\",\"ticks\":\"\",\"title\":{\"standoff\":15},\"zerolinecolor\":\"white\",\"zerolinewidth\":2}}},\"title\":{\"text\":\"HMH Business\"},\"geo\":{\"scope\":\"usa\"}},                        {\"responsive\": true}                    ).then(function(){\n",
       "                            \n",
       "var gd = document.getElementById('9265ac6e-6256-48a8-9bbc-de1f95502a97');\n",
       "var x = new MutationObserver(function (mutations, observer) {{\n",
       "        var display = window.getComputedStyle(gd).display;\n",
       "        if (!display || display === 'none') {{\n",
       "            console.log([gd, 'removed!']);\n",
       "            Plotly.purge(gd);\n",
       "            observer.disconnect();\n",
       "        }}\n",
       "}});\n",
       "\n",
       "// Listen for the removal of the full notebook cells\n",
       "var notebookContainer = gd.closest('#notebook-container');\n",
       "if (notebookContainer) {{\n",
       "    x.observe(notebookContainer, {childList: true});\n",
       "}}\n",
       "\n",
       "// Listen for the clearing of the current output cell\n",
       "var outputEl = gd.closest('.output');\n",
       "if (outputEl) {{\n",
       "    x.observe(outputEl, {childList: true});\n",
       "}}\n",
       "\n",
       "                        })                };                });            </script>        </div>"
      ]
     },
     "metadata": {},
     "output_type": "display_data"
    }
   ],
   "source": [
    "dim = pd.DataFrame(new_assess.groupby('state_id')['school_id'].nunique()).reset_index()\n",
    "\n",
    "fig = go.Figure(data=go.Choropleth(\n",
    "    locations=dim['state_id'], # Spatial coordinates\n",
    "    z = dim['school_id'],#.astype(float), # Data to be color-coded\n",
    "    locationmode = 'USA-states', # set of locations match entries in `locations`\n",
    "    colorscale = 'Reds',\n",
    "    colorbar_title = \"School Count\",\n",
    "))\n",
    "\n",
    "fig.update_layout(\n",
    "    title_text = 'HMH Business',\n",
    "    geo_scope='usa', # limite map scope to USA\n",
    ")\n",
    "\n",
    "fig.show()"
   ]
  },
  {
   "cell_type": "code",
   "execution_count": 118,
   "id": "d5b69f9a",
   "metadata": {},
   "outputs": [
    {
     "data": {
      "text/html": [
       "<div>\n",
       "<style scoped>\n",
       "    .dataframe tbody tr th:only-of-type {\n",
       "        vertical-align: middle;\n",
       "    }\n",
       "\n",
       "    .dataframe tbody tr th {\n",
       "        vertical-align: top;\n",
       "    }\n",
       "\n",
       "    .dataframe thead th {\n",
       "        text-align: right;\n",
       "    }\n",
       "</style>\n",
       "<table border=\"1\" class=\"dataframe\">\n",
       "  <thead>\n",
       "    <tr style=\"text-align: right;\">\n",
       "      <th></th>\n",
       "      <th>District_ID</th>\n",
       "      <th>States</th>\n",
       "      <th>school_id</th>\n",
       "      <th>student_id</th>\n",
       "      <th>Students per district</th>\n",
       "      <th>time_in_seconds</th>\n",
       "    </tr>\n",
       "  </thead>\n",
       "  <tbody>\n",
       "    <tr>\n",
       "      <th>0</th>\n",
       "      <td>14</td>\n",
       "      <td>CALIFORNIA</td>\n",
       "      <td>17</td>\n",
       "      <td>403</td>\n",
       "      <td>24.0</td>\n",
       "      <td>80.848546</td>\n",
       "    </tr>\n",
       "    <tr>\n",
       "      <th>1</th>\n",
       "      <td>13</td>\n",
       "      <td>CALIFORNIA</td>\n",
       "      <td>27</td>\n",
       "      <td>551</td>\n",
       "      <td>20.0</td>\n",
       "      <td>83.900216</td>\n",
       "    </tr>\n",
       "    <tr>\n",
       "      <th>2</th>\n",
       "      <td>3</td>\n",
       "      <td>CALIFORNIA</td>\n",
       "      <td>12</td>\n",
       "      <td>130</td>\n",
       "      <td>11.0</td>\n",
       "      <td>84.485543</td>\n",
       "    </tr>\n",
       "    <tr>\n",
       "      <th>3</th>\n",
       "      <td>1</td>\n",
       "      <td>TEXAS</td>\n",
       "      <td>17</td>\n",
       "      <td>206</td>\n",
       "      <td>12.0</td>\n",
       "      <td>121.211762</td>\n",
       "    </tr>\n",
       "    <tr>\n",
       "      <th>4</th>\n",
       "      <td>2</td>\n",
       "      <td>CALIFORNIA</td>\n",
       "      <td>9</td>\n",
       "      <td>159</td>\n",
       "      <td>18.0</td>\n",
       "      <td>121.863268</td>\n",
       "    </tr>\n",
       "    <tr>\n",
       "      <th>5</th>\n",
       "      <td>6</td>\n",
       "      <td>MAINE</td>\n",
       "      <td>46</td>\n",
       "      <td>722</td>\n",
       "      <td>16.0</td>\n",
       "      <td>122.602770</td>\n",
       "    </tr>\n",
       "    <tr>\n",
       "      <th>6</th>\n",
       "      <td>8</td>\n",
       "      <td>CALIFORNIA</td>\n",
       "      <td>20</td>\n",
       "      <td>255</td>\n",
       "      <td>13.0</td>\n",
       "      <td>153.437020</td>\n",
       "    </tr>\n",
       "    <tr>\n",
       "      <th>7</th>\n",
       "      <td>11</td>\n",
       "      <td>KANSAS</td>\n",
       "      <td>13</td>\n",
       "      <td>198</td>\n",
       "      <td>15.0</td>\n",
       "      <td>156.001287</td>\n",
       "    </tr>\n",
       "    <tr>\n",
       "      <th>8</th>\n",
       "      <td>9</td>\n",
       "      <td>KANSAS</td>\n",
       "      <td>13</td>\n",
       "      <td>146</td>\n",
       "      <td>11.0</td>\n",
       "      <td>204.292077</td>\n",
       "    </tr>\n",
       "    <tr>\n",
       "      <th>9</th>\n",
       "      <td>7</td>\n",
       "      <td>KANSAS</td>\n",
       "      <td>18</td>\n",
       "      <td>681</td>\n",
       "      <td>38.0</td>\n",
       "      <td>210.309668</td>\n",
       "    </tr>\n",
       "    <tr>\n",
       "      <th>10</th>\n",
       "      <td>0</td>\n",
       "      <td>ILLINOIS</td>\n",
       "      <td>19</td>\n",
       "      <td>323</td>\n",
       "      <td>17.0</td>\n",
       "      <td>210.717884</td>\n",
       "    </tr>\n",
       "    <tr>\n",
       "      <th>11</th>\n",
       "      <td>10</td>\n",
       "      <td>ILLINOIS</td>\n",
       "      <td>54</td>\n",
       "      <td>400</td>\n",
       "      <td>7.0</td>\n",
       "      <td>244.949792</td>\n",
       "    </tr>\n",
       "    <tr>\n",
       "      <th>12</th>\n",
       "      <td>4</td>\n",
       "      <td>TEXAS</td>\n",
       "      <td>32</td>\n",
       "      <td>432</td>\n",
       "      <td>14.0</td>\n",
       "      <td>271.212614</td>\n",
       "    </tr>\n",
       "    <tr>\n",
       "      <th>13</th>\n",
       "      <td>5</td>\n",
       "      <td>TEXAS</td>\n",
       "      <td>22</td>\n",
       "      <td>350</td>\n",
       "      <td>16.0</td>\n",
       "      <td>315.993453</td>\n",
       "    </tr>\n",
       "    <tr>\n",
       "      <th>14</th>\n",
       "      <td>12</td>\n",
       "      <td>CALIFORNIA</td>\n",
       "      <td>16</td>\n",
       "      <td>457</td>\n",
       "      <td>29.0</td>\n",
       "      <td>328.403189</td>\n",
       "    </tr>\n",
       "  </tbody>\n",
       "</table>\n",
       "</div>"
      ],
      "text/plain": [
       "   District_ID      States  school_id  student_id  Students per district  \\\n",
       "0           14  CALIFORNIA         17         403                   24.0   \n",
       "1           13  CALIFORNIA         27         551                   20.0   \n",
       "2            3  CALIFORNIA         12         130                   11.0   \n",
       "3            1       TEXAS         17         206                   12.0   \n",
       "4            2  CALIFORNIA          9         159                   18.0   \n",
       "5            6       MAINE         46         722                   16.0   \n",
       "6            8  CALIFORNIA         20         255                   13.0   \n",
       "7           11      KANSAS         13         198                   15.0   \n",
       "8            9      KANSAS         13         146                   11.0   \n",
       "9            7      KANSAS         18         681                   38.0   \n",
       "10           0    ILLINOIS         19         323                   17.0   \n",
       "11          10    ILLINOIS         54         400                    7.0   \n",
       "12           4       TEXAS         32         432                   14.0   \n",
       "13           5       TEXAS         22         350                   16.0   \n",
       "14          12  CALIFORNIA         16         457                   29.0   \n",
       "\n",
       "    time_in_seconds  \n",
       "0         80.848546  \n",
       "1         83.900216  \n",
       "2         84.485543  \n",
       "3        121.211762  \n",
       "4        121.863268  \n",
       "5        122.602770  \n",
       "6        153.437020  \n",
       "7        156.001287  \n",
       "8        204.292077  \n",
       "9        210.309668  \n",
       "10       210.717884  \n",
       "11       244.949792  \n",
       "12       271.212614  \n",
       "13       315.993453  \n",
       "14       328.403189  "
      ]
     },
     "execution_count": 118,
     "metadata": {},
     "output_type": "execute_result"
    }
   ],
   "source": [
    "att_tru = new_assess[new_assess['attempted']=='True']\n",
    "dim0 = pd.DataFrame(att_tru.groupby(['District_ID','States'])['school_id','student_id'].nunique()).reset_index()\n",
    "dim0['Students per district'] = (dim0['student_id']/dim0['school_id']).round()\n",
    "dim7 = pd.DataFrame(att_tru.groupby(['District_ID','States'])['time_in_seconds'].mean()).reset_index()\n",
    "#dim7.sort_values(by=['time_in_seconds'], ascending=True).reset_index().drop(['index'],axis=1)\n",
    "df2 = pd.merge(dim0, dim7, on=['District_ID','States'])\n",
    "df2.sort_values(by=['time_in_seconds'], ascending=True).reset_index().drop(['index'],axis=1)"
   ]
  },
  {
   "cell_type": "markdown",
   "id": "8cb4b758",
   "metadata": {},
   "source": [
    "### Our Hypothesis will be,\n",
    "\n",
    "#### H0: Time spent on assessments has no effect on student performance\n",
    "#### H1: Time spent on assessments has effect on student performance"
   ]
  },
  {
   "cell_type": "markdown",
   "id": "d6f70ec8",
   "metadata": {},
   "source": [
    "### Days of the week effect on student performance"
   ]
  },
  {
   "cell_type": "code",
   "execution_count": 88,
   "id": "7bd1cd9c",
   "metadata": {},
   "outputs": [
    {
     "data": {
      "text/html": [
       "<div>\n",
       "<style scoped>\n",
       "    .dataframe tbody tr th:only-of-type {\n",
       "        vertical-align: middle;\n",
       "    }\n",
       "\n",
       "    .dataframe tbody tr th {\n",
       "        vertical-align: top;\n",
       "    }\n",
       "\n",
       "    .dataframe thead th {\n",
       "        text-align: right;\n",
       "    }\n",
       "</style>\n",
       "<table border=\"1\" class=\"dataframe\">\n",
       "  <thead>\n",
       "    <tr style=\"text-align: right;\">\n",
       "      <th></th>\n",
       "      <th>day</th>\n",
       "      <th>assessment_id</th>\n",
       "      <th>time_in_seconds</th>\n",
       "      <th>time_min</th>\n",
       "      <th>Student Score</th>\n",
       "    </tr>\n",
       "  </thead>\n",
       "  <tbody>\n",
       "    <tr>\n",
       "      <th>0</th>\n",
       "      <td>Monday</td>\n",
       "      <td>3417</td>\n",
       "      <td>217.0</td>\n",
       "      <td>3.62</td>\n",
       "      <td>63.0</td>\n",
       "    </tr>\n",
       "    <tr>\n",
       "      <th>1</th>\n",
       "      <td>Tuesday</td>\n",
       "      <td>3629</td>\n",
       "      <td>218.0</td>\n",
       "      <td>3.63</td>\n",
       "      <td>63.0</td>\n",
       "    </tr>\n",
       "    <tr>\n",
       "      <th>2</th>\n",
       "      <td>Wednesday</td>\n",
       "      <td>3695</td>\n",
       "      <td>212.0</td>\n",
       "      <td>3.53</td>\n",
       "      <td>62.0</td>\n",
       "    </tr>\n",
       "    <tr>\n",
       "      <th>3</th>\n",
       "      <td>Thursday</td>\n",
       "      <td>3713</td>\n",
       "      <td>219.0</td>\n",
       "      <td>3.65</td>\n",
       "      <td>60.0</td>\n",
       "    </tr>\n",
       "    <tr>\n",
       "      <th>4</th>\n",
       "      <td>Friday</td>\n",
       "      <td>3714</td>\n",
       "      <td>201.0</td>\n",
       "      <td>3.35</td>\n",
       "      <td>50.0</td>\n",
       "    </tr>\n",
       "    <tr>\n",
       "      <th>5</th>\n",
       "      <td>Saturday</td>\n",
       "      <td>937</td>\n",
       "      <td>474.0</td>\n",
       "      <td>7.90</td>\n",
       "      <td>84.0</td>\n",
       "    </tr>\n",
       "    <tr>\n",
       "      <th>6</th>\n",
       "      <td>Sunday</td>\n",
       "      <td>795</td>\n",
       "      <td>610.0</td>\n",
       "      <td>10.17</td>\n",
       "      <td>87.0</td>\n",
       "    </tr>\n",
       "  </tbody>\n",
       "</table>\n",
       "</div>"
      ],
      "text/plain": [
       "         day  assessment_id  time_in_seconds  time_min  Student Score\n",
       "0     Monday           3417            217.0      3.62           63.0\n",
       "1    Tuesday           3629            218.0      3.63           63.0\n",
       "2  Wednesday           3695            212.0      3.53           62.0\n",
       "3   Thursday           3713            219.0      3.65           60.0\n",
       "4     Friday           3714            201.0      3.35           50.0\n",
       "5   Saturday            937            474.0      7.90           84.0\n",
       "6     Sunday            795            610.0     10.17           87.0"
      ]
     },
     "execution_count": 88,
     "metadata": {},
     "output_type": "execute_result"
    }
   ],
   "source": [
    "cats = [ 'Monday', 'Tuesday', 'Wednesday', 'Thursday', 'Friday', 'Saturday', 'Sunday']\n",
    "per_dim = pd.DataFrame(new_assess.groupby(['day'])['assessment_id'].nunique().round()).reindex(cats)\n",
    "per_dim1 = pd.DataFrame(new_assess.groupby(['day'])['time_in_seconds'].mean().round()).reindex(cats)\n",
    "per_dim1['time_min'] = round(per_dim1['time_in_seconds']/60,2)\n",
    "perfor_day = pd.merge(per_dim, per_dim1, on=['day'])\n",
    "\n",
    "per_dim2 = pd.DataFrame(Assessment_Score.groupby(['Day'])['Student Score'].mean().round()).reset_index()\n",
    "per_dim2.columns = ['day','Student Score']\n",
    "perfor_day1 = pd.merge(perfor_day,per_dim2,on=['day'])\n",
    "perfor_day1"
   ]
  },
  {
   "cell_type": "code",
   "execution_count": 141,
   "id": "91e5d190",
   "metadata": {},
   "outputs": [
    {
     "data": {
      "image/png": "[encoded data removed]",
      "text/plain": [
       "<Figure size 504x504 with 2 Axes>"
      ]
     },
     "metadata": {
      "needs_background": "light"
     },
     "output_type": "display_data"
    }
   ],
   "source": [
    "fig, ax = plt.subplots(figsize=(7, 7))\n",
    "ax.set_xlabel('day')\n",
    "ax.bar('day','Student Score',data=perfor_day1,label=\"Students Score\")\n",
    "ax.set_ylabel('Student Score')\n",
    "ax.set_ylim(ymin=0)\n",
    "plt.legend(loc=\"upper left\")\n",
    "ax2 = ax.twinx()\n",
    "ax2.plot('day','time_min',data=perfor_day1, marker='o', color='red',label=\"Time taken\")\n",
    "ax2.set_ylabel('time_min')\n",
    "ax2.set_ylim(ymin=0)\n",
    "\n",
    "plt.legend(loc=\"upper right\")\n",
    "plt.show()"
   ]
  },
  {
   "cell_type": "code",
   "execution_count": 125,
   "id": "888692fc",
   "metadata": {},
   "outputs": [
    {
     "name": "stdout",
     "output_type": "stream",
     "text": [
      "Correlation value: 0.938816385517805\n",
      "p-value: 0.0017205060824587119\n"
     ]
    }
   ],
   "source": [
    "Cor = pearsonr(perfor_day1['time_min'], perfor_day1['Student Score'])[0]\n",
    "p_val = pearsonr(perfor_day1['time_min'], perfor_day1['Student Score'])[1]\n",
    "\n",
    "print(\"Correlation value: \"+str(Cor))\n",
    "print(\"p-value: \"+str(p_val))"
   ]
  },
  {
   "cell_type": "markdown",
   "id": "9b5f6b48",
   "metadata": {},
   "source": [
    "### Insight:\n",
    "- Higher the time they spend on assessments, better the performance of students.\n",
    "- Time spent and student score is highly correlated."
   ]
  },
  {
   "cell_type": "markdown",
   "id": "d64f666a",
   "metadata": {},
   "source": [
    "## Report Generation"
   ]
  },
  {
   "cell_type": "code",
   "execution_count": 146,
   "id": "e488aa8a",
   "metadata": {},
   "outputs": [
    {
     "name": "stdout",
     "output_type": "stream",
     "text": [
      "Do you want to look at district wise data? Type Y/N y\n",
      "Select any district between 0 to 15: 5\n",
      "Number of schools in this districts: 22\n",
      "Total number of students: 350\n",
      "Assessment subjects: ['geography' 'history' 'civics']\n",
      "Students belongs to grade: [4 6 5 2 3 1 7 0]\n",
      "Number of Assessments provided: 1616\n",
      "Number of Questions provided: 7896\n",
      "Students Performance: 97.05%\n"
     ]
    },
    {
     "data": {
      "image/png": "[encoded data removed]",
      "text/plain": [
       "<Figure size 1296x360 with 2 Axes>"
      ]
     },
     "metadata": {
      "needs_background": "light"
     },
     "output_type": "display_data"
    },
    {
     "name": "stdout",
     "output_type": "stream",
     "text": [
      "    grade    subject  time_in_seconds\n",
      "0       0  geography              100\n",
      "1       1  geography               64\n",
      "2       2     civics               14\n",
      "3       2  geography              138\n",
      "4       2    history               16\n",
      "5       3  geography              151\n",
      "6       3    history              129\n",
      "7       4     civics               38\n",
      "8       4  geography              379\n",
      "9       4    history              267\n",
      "10      5     civics               99\n",
      "11      5  geography              441\n",
      "12      5    history              503\n",
      "13      6     civics               34\n",
      "14      6  geography              443\n",
      "15      6    history               84\n",
      "16      7  geography             1042\n",
      "Do you want to look at district wise data? Type Y/N y\n",
      "Select any district between 0 to 15: 7\n",
      "Number of schools in this districts: 18\n",
      "Total number of students: 681\n",
      "Assessment subjects: ['geography']\n",
      "Students belongs to grade: [4 5 6 7]\n",
      "Number of Assessments provided: 960\n",
      "Number of Questions provided: 5777\n",
      "Students Performance: 96.62%\n"
     ]
    },
    {
     "data": {
      "image/png": "[encoded data removed]",
      "text/plain": [
       "<Figure size 1296x360 with 2 Axes>"
      ]
     },
     "metadata": {
      "needs_background": "light"
     },
     "output_type": "display_data"
    },
    {
     "name": "stdout",
     "output_type": "stream",
     "text": [
      "   grade    subject  time_in_seconds\n",
      "0      4  geography              207\n",
      "1      5  geography              215\n",
      "2      6  geography              214\n",
      "3      7  geography               22\n",
      "Do you want to look at district wise data? Type Y/N n\n",
      "Thank You\n"
     ]
    }
   ],
   "source": [
    "def main():\n",
    "    while True:\n",
    "        again = input(\"Do you want to look at district wise data? Type Y/N \").upper()\n",
    "\n",
    "        if again == \"N\":\n",
    "            print (\"Thank You\")\n",
    "            return\n",
    "        elif again == \"Y\":\n",
    "            stat = str(input(\"Select any district between 0 to 15: \")).upper()\n",
    "            if stat in list(att_tru['District_ID']):\n",
    "                district = att_tru[att_tru['District_ID']==stat].reset_index()\n",
    "                if len(district) == 0: print(\"No Data Available\")\n",
    "                else:\n",
    "                    print(\"Number of schools in this districts: \"+ str(len(district['school_id'].unique())))\n",
    "                    print(\"Total number of students: \"+str(len(district['student_id'].unique())))\n",
    "                    print(\"Assessment subjects: \"+str(district['subject'].unique()))\n",
    "                    print(\"Students belongs to grade: \"+str(district['grade'].unique()))\n",
    "                    print(\"Number of Assessments provided: \"+str(len(district['assessment_id'].unique())))\n",
    "                    print(\"Number of Questions provided: \"+str(len(district['item_id'].unique())))\n",
    "                    \n",
    "                    total_item = len(district['item_id'])\n",
    "                    correct_item = len(district[district['item_score']==1])\n",
    "                    score = round(((correct_item/total_item)*100),2)#.astype(int)\n",
    "                    print(\"Students Performance: \" +str(score) + \"%\")\n",
    "\n",
    "                    his = district[district['subject']=='history']\n",
    "                    civ = district[district['subject']=='civics']\n",
    "                    geo = district[district['subject']=='geography']\n",
    "                    HIS = len(his['assessment_id'].unique())\n",
    "                    CIV = len(civ['assessment_id'].unique())\n",
    "                    GEO = len(geo['assessment_id'].unique())\n",
    "                    Sub = pd.DataFrame({'Subject':['History','Civics','Geography'],'Count':[HIS,CIV,GEO]})\n",
    "\n",
    "                    avg_his = round(his['time_in_seconds'].mean(),2)\n",
    "                    avg_civ = round(civ['time_in_seconds'].mean(),2)\n",
    "                    avg_geo = round(geo['time_in_seconds'].mean(),2)\n",
    "                    avg = pd.DataFrame({'Subject':['History','Civics','Geography'],'Average':[avg_his,avg_civ,avg_geo]}).fillna(0)\n",
    "\n",
    "                    plt.figure(figsize=(18,5))\n",
    "                    plt.subplot(1, 2, 1)\n",
    "                    sns.barplot(x='Subject',y='Count',data=Sub,palette=\"Blues\").set(title='Assessments')\n",
    "                    plt.subplot(1, 2, 2)\n",
    "                    sns.barplot(x='Subject',y='Average',data=avg,palette=\"Blues\").set(title='Average Time for Assessments')\n",
    "\n",
    "                    plt.show()\n",
    "                    \n",
    "                    sub_gra = pd.DataFrame(district.groupby(['grade','subject'])['time_in_seconds'].mean()).round().reset_index()\n",
    "                    sub_gra['time_in_seconds'] = sub_gra['time_in_seconds'].astype(int)\n",
    "                    print(sub_gra)\n",
    "\n",
    "                    #Pie\n",
    "                    #plt.pie(Grp_Dec['index'],labels = Grp_Dec['declarationType1'],autopct='%1.1f%%',explode=[0,0,0], shadow=True, startangle=50)\n",
    "                    #plt.show()\n",
    "\n",
    "            else: print(\"Entered state is not in the list, Kindly check again.\")\n",
    "        else:\n",
    "            print (\"Please enter either \\\"Y\\\" or \\\"N\\\".\")\n",
    "\n",
    "if __name__ == \"__main__\":\n",
    "    main()"
   ]
  },
  {
   "cell_type": "markdown",
   "id": "e4a89317",
   "metadata": {},
   "source": [
    "# Key Takeaways & Plan\n",
    "\n",
    "- Student performance will increase with number of assessments provided.\n",
    "- Performance of students have increased when comparing 2010 and 2011.\n",
    "- More assessments should be given in history and civics.\n",
    "- More concentration to be given to students in 'Maine' states.\n",
    "- More time they spend on assessments, their performance have got better."
   ]
  }
 ],
 "metadata": {
  "kernelspec": {
   "display_name": "Python 3 (ipykernel)",
   "language": "python",
   "name": "python3"
  },
  "language_info": {
   "codemirror_mode": {
    "name": "ipython",
    "version": 3
   },
   "file_extension": ".py",
   "mimetype": "text/x-python",
   "name": "python",
   "nbconvert_exporter": "python",
   "pygments_lexer": "ipython3",
   "version": "3.9.7"
  }
 },
 "nbformat": 4,
 "nbformat_minor": 5
}
